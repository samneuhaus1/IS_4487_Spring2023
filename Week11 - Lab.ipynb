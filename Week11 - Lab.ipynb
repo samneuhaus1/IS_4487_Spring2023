{
  "nbformat": 4,
  "nbformat_minor": 0,
  "metadata": {
    "colab": {
      "provenance": [],
      "include_colab_link": true
    },
    "kernelspec": {
      "name": "python3",
      "display_name": "Python 3"
    },
    "language_info": {
      "name": "python"
    }
  },
  "cells": [
    {
      "cell_type": "markdown",
      "metadata": {
        "id": "view-in-github",
        "colab_type": "text"
      },
      "source": [
        "<a href=\"https://colab.research.google.com/github/samneuhaus1/IS_4487_Spring2023/blob/main/Week11%20-%20Lab.ipynb\" target=\"_parent\"><img src=\"https://colab.research.google.com/assets/colab-badge.svg\" alt=\"Open In Colab\"/></a>"
      ]
    },
    {
      "cell_type": "markdown",
      "metadata": {
        "id": "p_Yu45OYdj3Y"
      },
      "source": [
        "# IS 4487 Module 5 Script\n",
        "\n",
        "## Objectives\n",
        "\n",
        "a. Understand model accuracy.  Why is it a performance metric for classification and not regression?\n",
        "    \n",
        "b. Calculate accuracy for a simple majority class model (this is the same as calculating the proportion of the majority class in a binary variable). Consider: x <- c(1, 1, 1, 0, 0).  What is the majority class? What is the proportion of the majority class in x?\n",
        "    \n",
        "c. Fit a tree model of the target with just one predictor variable and calculate the accuracy of this model.\n",
        "    \n",
        "d. Interpret a tree model, and calculate information gain.\n",
        "    \n",
        "e. Fit a tree model of the target using all the predictors, then:  create a visualization of the tree and identify the top 3 most important predictors in this model.\n",
        "    \n",
        "f. How do these models compare to majority class prediction?\n",
        "    \n",
        "g. How will you use a classification model as part of a solution to the AdviseInvest case?\n",
        "\n",
        "We will use the MegaTelCo data for this demonstration."
      ]
    },
    {
      "cell_type": "code",
      "source": [
        "from google.colab import drive\n",
        "drive.mount('/content/drive')"
      ],
      "metadata": {
        "colab": {
          "base_uri": "https://localhost:8080/"
        },
        "id": "iDGe-riqbqp7",
        "outputId": "c08d0311-1c2d-4f2c-89ad-ddd0f4dc3e7e"
      },
      "execution_count": 1,
      "outputs": [
        {
          "output_type": "stream",
          "name": "stdout",
          "text": [
            "Mounted at /content/drive\n"
          ]
        }
      ]
    },
    {
      "cell_type": "markdown",
      "metadata": {
        "id": "UE93RwXhgiJS"
      },
      "source": [
        "##Load Libraries\n",
        "\n",
        "In this class we will be using \n",
        "- Pandas\n",
        "- Scikitlearn\n",
        "- Matplotlib\n"
      ]
    },
    {
      "cell_type": "code",
      "metadata": {
        "id": "JYRZY5n0gfNe"
      },
      "source": [
        "import pandas as pd\n",
        "import matplotlib as mpl\n",
        "import numpy as np\n",
        "\n",
        "from sklearn.tree import DecisionTreeClassifier, export_graphviz # Import Decision Tree Classifier\n",
        "from sklearn.model_selection import train_test_split # Import train_test_split function\n",
        "from sklearn import metrics #Import scikit-learn metrics module for accuracy calculation\n",
        "from sklearn import tree\n"
      ],
      "execution_count": 2,
      "outputs": []
    },
    {
      "cell_type": "markdown",
      "metadata": {
        "id": "bREaXo8jfu-O"
      },
      "source": [
        "## Getting data into Pandas\n",
        "\n",
        "In this case we will load data from the statsmodels.org library\n",
        "\n",
        "See the Canvas assignments and lectures for a description of the Megatelco data\n",
        "\n",
        "**Note:** you will need to enter a code supplied by Google in the next step. \n"
      ]
    },
    {
      "cell_type": "code",
      "metadata": {
        "id": "6_FwprxVgR0e",
        "colab": {
          "base_uri": "https://localhost:8080/"
        },
        "outputId": "23392925-8013-4539-9897-5c87bb5b16ad"
      },
      "source": [
        "from google.colab import drive \n",
        "drive.mount('/content/gdrive', force_remount=True)\n",
        "\n",
        "df = pd.read_csv (r'/content/gdrive/MyDrive/Colab Notebooks/daily_aqi_by_county_2021.csv')"
      ],
      "execution_count": 3,
      "outputs": [
        {
          "output_type": "stream",
          "name": "stdout",
          "text": [
            "Mounted at /content/gdrive\n"
          ]
        }
      ]
    },
    {
      "cell_type": "code",
      "metadata": {
        "id": "gSvao0dlhlNn",
        "colab": {
          "base_uri": "https://localhost:8080/",
          "height": 363
        },
        "outputId": "27e1affd-7c98-4c1a-995c-fab35748afa8"
      },
      "source": [
        "#look at the top rows\n",
        "df.head(10) "
      ],
      "execution_count": 4,
      "outputs": [
        {
          "output_type": "execute_result",
          "data": {
            "text/plain": [
              "  State Name county Name  State Code  County Code        Date  AQI  Category  \\\n",
              "0    Alabama     Baldwin           1            3  2021-01-01   27      Good   \n",
              "1    Alabama     Baldwin           1            3  2021-01-04   47      Good   \n",
              "2    Alabama     Baldwin           1            3  2021-01-07   24      Good   \n",
              "3    Alabama     Baldwin           1            3  2021-01-10   39      Good   \n",
              "4    Alabama     Baldwin           1            3  2021-01-13   46      Good   \n",
              "5    Alabama     Baldwin           1            3  2021-01-16   21      Good   \n",
              "6    Alabama     Baldwin           1            3  2021-01-19   52  Moderate   \n",
              "7    Alabama     Baldwin           1            3  2021-01-22   11      Good   \n",
              "8    Alabama     Baldwin           1            3  2021-01-25   39      Good   \n",
              "9    Alabama     Baldwin           1            3  2021-01-28   22      Good   \n",
              "\n",
              "  Defining Parameter Defining Site  Number of Sites Reporting  \n",
              "0              PM2.5   01-003-0010                          1  \n",
              "1              PM2.5   01-003-0010                          1  \n",
              "2              PM2.5   01-003-0010                          1  \n",
              "3              PM2.5   01-003-0010                          1  \n",
              "4              PM2.5   01-003-0010                          1  \n",
              "5              PM2.5   01-003-0010                          1  \n",
              "6              PM2.5   01-003-0010                          1  \n",
              "7              PM2.5   01-003-0010                          1  \n",
              "8              PM2.5   01-003-0010                          1  \n",
              "9              PM2.5   01-003-0010                          1  "
            ],
            "text/html": [
              "\n",
              "  <div id=\"df-2e0ce4b5-ba0a-448d-8692-ed916dfc30c6\">\n",
              "    <div class=\"colab-df-container\">\n",
              "      <div>\n",
              "<style scoped>\n",
              "    .dataframe tbody tr th:only-of-type {\n",
              "        vertical-align: middle;\n",
              "    }\n",
              "\n",
              "    .dataframe tbody tr th {\n",
              "        vertical-align: top;\n",
              "    }\n",
              "\n",
              "    .dataframe thead th {\n",
              "        text-align: right;\n",
              "    }\n",
              "</style>\n",
              "<table border=\"1\" class=\"dataframe\">\n",
              "  <thead>\n",
              "    <tr style=\"text-align: right;\">\n",
              "      <th></th>\n",
              "      <th>State Name</th>\n",
              "      <th>county Name</th>\n",
              "      <th>State Code</th>\n",
              "      <th>County Code</th>\n",
              "      <th>Date</th>\n",
              "      <th>AQI</th>\n",
              "      <th>Category</th>\n",
              "      <th>Defining Parameter</th>\n",
              "      <th>Defining Site</th>\n",
              "      <th>Number of Sites Reporting</th>\n",
              "    </tr>\n",
              "  </thead>\n",
              "  <tbody>\n",
              "    <tr>\n",
              "      <th>0</th>\n",
              "      <td>Alabama</td>\n",
              "      <td>Baldwin</td>\n",
              "      <td>1</td>\n",
              "      <td>3</td>\n",
              "      <td>2021-01-01</td>\n",
              "      <td>27</td>\n",
              "      <td>Good</td>\n",
              "      <td>PM2.5</td>\n",
              "      <td>01-003-0010</td>\n",
              "      <td>1</td>\n",
              "    </tr>\n",
              "    <tr>\n",
              "      <th>1</th>\n",
              "      <td>Alabama</td>\n",
              "      <td>Baldwin</td>\n",
              "      <td>1</td>\n",
              "      <td>3</td>\n",
              "      <td>2021-01-04</td>\n",
              "      <td>47</td>\n",
              "      <td>Good</td>\n",
              "      <td>PM2.5</td>\n",
              "      <td>01-003-0010</td>\n",
              "      <td>1</td>\n",
              "    </tr>\n",
              "    <tr>\n",
              "      <th>2</th>\n",
              "      <td>Alabama</td>\n",
              "      <td>Baldwin</td>\n",
              "      <td>1</td>\n",
              "      <td>3</td>\n",
              "      <td>2021-01-07</td>\n",
              "      <td>24</td>\n",
              "      <td>Good</td>\n",
              "      <td>PM2.5</td>\n",
              "      <td>01-003-0010</td>\n",
              "      <td>1</td>\n",
              "    </tr>\n",
              "    <tr>\n",
              "      <th>3</th>\n",
              "      <td>Alabama</td>\n",
              "      <td>Baldwin</td>\n",
              "      <td>1</td>\n",
              "      <td>3</td>\n",
              "      <td>2021-01-10</td>\n",
              "      <td>39</td>\n",
              "      <td>Good</td>\n",
              "      <td>PM2.5</td>\n",
              "      <td>01-003-0010</td>\n",
              "      <td>1</td>\n",
              "    </tr>\n",
              "    <tr>\n",
              "      <th>4</th>\n",
              "      <td>Alabama</td>\n",
              "      <td>Baldwin</td>\n",
              "      <td>1</td>\n",
              "      <td>3</td>\n",
              "      <td>2021-01-13</td>\n",
              "      <td>46</td>\n",
              "      <td>Good</td>\n",
              "      <td>PM2.5</td>\n",
              "      <td>01-003-0010</td>\n",
              "      <td>1</td>\n",
              "    </tr>\n",
              "    <tr>\n",
              "      <th>5</th>\n",
              "      <td>Alabama</td>\n",
              "      <td>Baldwin</td>\n",
              "      <td>1</td>\n",
              "      <td>3</td>\n",
              "      <td>2021-01-16</td>\n",
              "      <td>21</td>\n",
              "      <td>Good</td>\n",
              "      <td>PM2.5</td>\n",
              "      <td>01-003-0010</td>\n",
              "      <td>1</td>\n",
              "    </tr>\n",
              "    <tr>\n",
              "      <th>6</th>\n",
              "      <td>Alabama</td>\n",
              "      <td>Baldwin</td>\n",
              "      <td>1</td>\n",
              "      <td>3</td>\n",
              "      <td>2021-01-19</td>\n",
              "      <td>52</td>\n",
              "      <td>Moderate</td>\n",
              "      <td>PM2.5</td>\n",
              "      <td>01-003-0010</td>\n",
              "      <td>1</td>\n",
              "    </tr>\n",
              "    <tr>\n",
              "      <th>7</th>\n",
              "      <td>Alabama</td>\n",
              "      <td>Baldwin</td>\n",
              "      <td>1</td>\n",
              "      <td>3</td>\n",
              "      <td>2021-01-22</td>\n",
              "      <td>11</td>\n",
              "      <td>Good</td>\n",
              "      <td>PM2.5</td>\n",
              "      <td>01-003-0010</td>\n",
              "      <td>1</td>\n",
              "    </tr>\n",
              "    <tr>\n",
              "      <th>8</th>\n",
              "      <td>Alabama</td>\n",
              "      <td>Baldwin</td>\n",
              "      <td>1</td>\n",
              "      <td>3</td>\n",
              "      <td>2021-01-25</td>\n",
              "      <td>39</td>\n",
              "      <td>Good</td>\n",
              "      <td>PM2.5</td>\n",
              "      <td>01-003-0010</td>\n",
              "      <td>1</td>\n",
              "    </tr>\n",
              "    <tr>\n",
              "      <th>9</th>\n",
              "      <td>Alabama</td>\n",
              "      <td>Baldwin</td>\n",
              "      <td>1</td>\n",
              "      <td>3</td>\n",
              "      <td>2021-01-28</td>\n",
              "      <td>22</td>\n",
              "      <td>Good</td>\n",
              "      <td>PM2.5</td>\n",
              "      <td>01-003-0010</td>\n",
              "      <td>1</td>\n",
              "    </tr>\n",
              "  </tbody>\n",
              "</table>\n",
              "</div>\n",
              "      <button class=\"colab-df-convert\" onclick=\"convertToInteractive('df-2e0ce4b5-ba0a-448d-8692-ed916dfc30c6')\"\n",
              "              title=\"Convert this dataframe to an interactive table.\"\n",
              "              style=\"display:none;\">\n",
              "        \n",
              "  <svg xmlns=\"http://www.w3.org/2000/svg\" height=\"24px\"viewBox=\"0 0 24 24\"\n",
              "       width=\"24px\">\n",
              "    <path d=\"M0 0h24v24H0V0z\" fill=\"none\"/>\n",
              "    <path d=\"M18.56 5.44l.94 2.06.94-2.06 2.06-.94-2.06-.94-.94-2.06-.94 2.06-2.06.94zm-11 1L8.5 8.5l.94-2.06 2.06-.94-2.06-.94L8.5 2.5l-.94 2.06-2.06.94zm10 10l.94 2.06.94-2.06 2.06-.94-2.06-.94-.94-2.06-.94 2.06-2.06.94z\"/><path d=\"M17.41 7.96l-1.37-1.37c-.4-.4-.92-.59-1.43-.59-.52 0-1.04.2-1.43.59L10.3 9.45l-7.72 7.72c-.78.78-.78 2.05 0 2.83L4 21.41c.39.39.9.59 1.41.59.51 0 1.02-.2 1.41-.59l7.78-7.78 2.81-2.81c.8-.78.8-2.07 0-2.86zM5.41 20L4 18.59l7.72-7.72 1.47 1.35L5.41 20z\"/>\n",
              "  </svg>\n",
              "      </button>\n",
              "      \n",
              "  <style>\n",
              "    .colab-df-container {\n",
              "      display:flex;\n",
              "      flex-wrap:wrap;\n",
              "      gap: 12px;\n",
              "    }\n",
              "\n",
              "    .colab-df-convert {\n",
              "      background-color: #E8F0FE;\n",
              "      border: none;\n",
              "      border-radius: 50%;\n",
              "      cursor: pointer;\n",
              "      display: none;\n",
              "      fill: #1967D2;\n",
              "      height: 32px;\n",
              "      padding: 0 0 0 0;\n",
              "      width: 32px;\n",
              "    }\n",
              "\n",
              "    .colab-df-convert:hover {\n",
              "      background-color: #E2EBFA;\n",
              "      box-shadow: 0px 1px 2px rgba(60, 64, 67, 0.3), 0px 1px 3px 1px rgba(60, 64, 67, 0.15);\n",
              "      fill: #174EA6;\n",
              "    }\n",
              "\n",
              "    [theme=dark] .colab-df-convert {\n",
              "      background-color: #3B4455;\n",
              "      fill: #D2E3FC;\n",
              "    }\n",
              "\n",
              "    [theme=dark] .colab-df-convert:hover {\n",
              "      background-color: #434B5C;\n",
              "      box-shadow: 0px 1px 3px 1px rgba(0, 0, 0, 0.15);\n",
              "      filter: drop-shadow(0px 1px 2px rgba(0, 0, 0, 0.3));\n",
              "      fill: #FFFFFF;\n",
              "    }\n",
              "  </style>\n",
              "\n",
              "      <script>\n",
              "        const buttonEl =\n",
              "          document.querySelector('#df-2e0ce4b5-ba0a-448d-8692-ed916dfc30c6 button.colab-df-convert');\n",
              "        buttonEl.style.display =\n",
              "          google.colab.kernel.accessAllowed ? 'block' : 'none';\n",
              "\n",
              "        async function convertToInteractive(key) {\n",
              "          const element = document.querySelector('#df-2e0ce4b5-ba0a-448d-8692-ed916dfc30c6');\n",
              "          const dataTable =\n",
              "            await google.colab.kernel.invokeFunction('convertToInteractive',\n",
              "                                                     [key], {});\n",
              "          if (!dataTable) return;\n",
              "\n",
              "          const docLinkHtml = 'Like what you see? Visit the ' +\n",
              "            '<a target=\"_blank\" href=https://colab.research.google.com/notebooks/data_table.ipynb>data table notebook</a>'\n",
              "            + ' to learn more about interactive tables.';\n",
              "          element.innerHTML = '';\n",
              "          dataTable['output_type'] = 'display_data';\n",
              "          await google.colab.output.renderOutput(dataTable, element);\n",
              "          const docLink = document.createElement('div');\n",
              "          docLink.innerHTML = docLinkHtml;\n",
              "          element.appendChild(docLink);\n",
              "        }\n",
              "      </script>\n",
              "    </div>\n",
              "  </div>\n",
              "  "
            ]
          },
          "metadata": {},
          "execution_count": 4
        }
      ]
    },
    {
      "cell_type": "code",
      "metadata": {
        "id": "AK7y336xJ3-6",
        "colab": {
          "base_uri": "https://localhost:8080/"
        },
        "outputId": "d0d91210-3244-4822-e1b0-2dc902839302"
      },
      "source": [
        "#look at the datatypes\n",
        "df.info()"
      ],
      "execution_count": 5,
      "outputs": [
        {
          "output_type": "stream",
          "name": "stdout",
          "text": [
            "<class 'pandas.core.frame.DataFrame'>\n",
            "RangeIndex: 218196 entries, 0 to 218195\n",
            "Data columns (total 10 columns):\n",
            " #   Column                     Non-Null Count   Dtype \n",
            "---  ------                     --------------   ----- \n",
            " 0   State Name                 218196 non-null  object\n",
            " 1   county Name                218196 non-null  object\n",
            " 2   State Code                 218196 non-null  int64 \n",
            " 3   County Code                218196 non-null  int64 \n",
            " 4   Date                       218196 non-null  object\n",
            " 5   AQI                        218196 non-null  int64 \n",
            " 6   Category                   218196 non-null  object\n",
            " 7   Defining Parameter         218196 non-null  object\n",
            " 8   Defining Site              218196 non-null  object\n",
            " 9   Number of Sites Reporting  218196 non-null  int64 \n",
            "dtypes: int64(4), object(6)\n",
            "memory usage: 16.6+ MB\n"
          ]
        }
      ]
    },
    {
      "cell_type": "code",
      "metadata": {
        "id": "udYgkb6I3SJo",
        "colab": {
          "base_uri": "https://localhost:8080/",
          "height": 300
        },
        "outputId": "0b1b6b62-009a-421b-bab2-cbd6e15c26e4"
      },
      "source": [
        "#describe the data before cleaning it\n",
        "df.describe()"
      ],
      "execution_count": 6,
      "outputs": [
        {
          "output_type": "execute_result",
          "data": {
            "text/plain": [
              "          State Code    County Code            AQI  Number of Sites Reporting\n",
              "count  218196.000000  218196.000000  218196.000000              218196.000000\n",
              "mean       30.178390      82.098265      39.584250                   1.924220\n",
              "std        15.755914      89.555906      21.547055                   2.251967\n",
              "min         1.000000       1.000000       0.000000                   1.000000\n",
              "25%        18.000000      25.000000      29.000000                   1.000000\n",
              "50%        30.000000      61.000000      38.000000                   1.000000\n",
              "75%        42.000000     111.000000      47.000000                   2.000000\n",
              "max        80.000000     810.000000    2723.000000                  34.000000"
            ],
            "text/html": [
              "\n",
              "  <div id=\"df-f2800f91-cc6e-4dbc-94b5-d61af654cba5\">\n",
              "    <div class=\"colab-df-container\">\n",
              "      <div>\n",
              "<style scoped>\n",
              "    .dataframe tbody tr th:only-of-type {\n",
              "        vertical-align: middle;\n",
              "    }\n",
              "\n",
              "    .dataframe tbody tr th {\n",
              "        vertical-align: top;\n",
              "    }\n",
              "\n",
              "    .dataframe thead th {\n",
              "        text-align: right;\n",
              "    }\n",
              "</style>\n",
              "<table border=\"1\" class=\"dataframe\">\n",
              "  <thead>\n",
              "    <tr style=\"text-align: right;\">\n",
              "      <th></th>\n",
              "      <th>State Code</th>\n",
              "      <th>County Code</th>\n",
              "      <th>AQI</th>\n",
              "      <th>Number of Sites Reporting</th>\n",
              "    </tr>\n",
              "  </thead>\n",
              "  <tbody>\n",
              "    <tr>\n",
              "      <th>count</th>\n",
              "      <td>218196.000000</td>\n",
              "      <td>218196.000000</td>\n",
              "      <td>218196.000000</td>\n",
              "      <td>218196.000000</td>\n",
              "    </tr>\n",
              "    <tr>\n",
              "      <th>mean</th>\n",
              "      <td>30.178390</td>\n",
              "      <td>82.098265</td>\n",
              "      <td>39.584250</td>\n",
              "      <td>1.924220</td>\n",
              "    </tr>\n",
              "    <tr>\n",
              "      <th>std</th>\n",
              "      <td>15.755914</td>\n",
              "      <td>89.555906</td>\n",
              "      <td>21.547055</td>\n",
              "      <td>2.251967</td>\n",
              "    </tr>\n",
              "    <tr>\n",
              "      <th>min</th>\n",
              "      <td>1.000000</td>\n",
              "      <td>1.000000</td>\n",
              "      <td>0.000000</td>\n",
              "      <td>1.000000</td>\n",
              "    </tr>\n",
              "    <tr>\n",
              "      <th>25%</th>\n",
              "      <td>18.000000</td>\n",
              "      <td>25.000000</td>\n",
              "      <td>29.000000</td>\n",
              "      <td>1.000000</td>\n",
              "    </tr>\n",
              "    <tr>\n",
              "      <th>50%</th>\n",
              "      <td>30.000000</td>\n",
              "      <td>61.000000</td>\n",
              "      <td>38.000000</td>\n",
              "      <td>1.000000</td>\n",
              "    </tr>\n",
              "    <tr>\n",
              "      <th>75%</th>\n",
              "      <td>42.000000</td>\n",
              "      <td>111.000000</td>\n",
              "      <td>47.000000</td>\n",
              "      <td>2.000000</td>\n",
              "    </tr>\n",
              "    <tr>\n",
              "      <th>max</th>\n",
              "      <td>80.000000</td>\n",
              "      <td>810.000000</td>\n",
              "      <td>2723.000000</td>\n",
              "      <td>34.000000</td>\n",
              "    </tr>\n",
              "  </tbody>\n",
              "</table>\n",
              "</div>\n",
              "      <button class=\"colab-df-convert\" onclick=\"convertToInteractive('df-f2800f91-cc6e-4dbc-94b5-d61af654cba5')\"\n",
              "              title=\"Convert this dataframe to an interactive table.\"\n",
              "              style=\"display:none;\">\n",
              "        \n",
              "  <svg xmlns=\"http://www.w3.org/2000/svg\" height=\"24px\"viewBox=\"0 0 24 24\"\n",
              "       width=\"24px\">\n",
              "    <path d=\"M0 0h24v24H0V0z\" fill=\"none\"/>\n",
              "    <path d=\"M18.56 5.44l.94 2.06.94-2.06 2.06-.94-2.06-.94-.94-2.06-.94 2.06-2.06.94zm-11 1L8.5 8.5l.94-2.06 2.06-.94-2.06-.94L8.5 2.5l-.94 2.06-2.06.94zm10 10l.94 2.06.94-2.06 2.06-.94-2.06-.94-.94-2.06-.94 2.06-2.06.94z\"/><path d=\"M17.41 7.96l-1.37-1.37c-.4-.4-.92-.59-1.43-.59-.52 0-1.04.2-1.43.59L10.3 9.45l-7.72 7.72c-.78.78-.78 2.05 0 2.83L4 21.41c.39.39.9.59 1.41.59.51 0 1.02-.2 1.41-.59l7.78-7.78 2.81-2.81c.8-.78.8-2.07 0-2.86zM5.41 20L4 18.59l7.72-7.72 1.47 1.35L5.41 20z\"/>\n",
              "  </svg>\n",
              "      </button>\n",
              "      \n",
              "  <style>\n",
              "    .colab-df-container {\n",
              "      display:flex;\n",
              "      flex-wrap:wrap;\n",
              "      gap: 12px;\n",
              "    }\n",
              "\n",
              "    .colab-df-convert {\n",
              "      background-color: #E8F0FE;\n",
              "      border: none;\n",
              "      border-radius: 50%;\n",
              "      cursor: pointer;\n",
              "      display: none;\n",
              "      fill: #1967D2;\n",
              "      height: 32px;\n",
              "      padding: 0 0 0 0;\n",
              "      width: 32px;\n",
              "    }\n",
              "\n",
              "    .colab-df-convert:hover {\n",
              "      background-color: #E2EBFA;\n",
              "      box-shadow: 0px 1px 2px rgba(60, 64, 67, 0.3), 0px 1px 3px 1px rgba(60, 64, 67, 0.15);\n",
              "      fill: #174EA6;\n",
              "    }\n",
              "\n",
              "    [theme=dark] .colab-df-convert {\n",
              "      background-color: #3B4455;\n",
              "      fill: #D2E3FC;\n",
              "    }\n",
              "\n",
              "    [theme=dark] .colab-df-convert:hover {\n",
              "      background-color: #434B5C;\n",
              "      box-shadow: 0px 1px 3px 1px rgba(0, 0, 0, 0.15);\n",
              "      filter: drop-shadow(0px 1px 2px rgba(0, 0, 0, 0.3));\n",
              "      fill: #FFFFFF;\n",
              "    }\n",
              "  </style>\n",
              "\n",
              "      <script>\n",
              "        const buttonEl =\n",
              "          document.querySelector('#df-f2800f91-cc6e-4dbc-94b5-d61af654cba5 button.colab-df-convert');\n",
              "        buttonEl.style.display =\n",
              "          google.colab.kernel.accessAllowed ? 'block' : 'none';\n",
              "\n",
              "        async function convertToInteractive(key) {\n",
              "          const element = document.querySelector('#df-f2800f91-cc6e-4dbc-94b5-d61af654cba5');\n",
              "          const dataTable =\n",
              "            await google.colab.kernel.invokeFunction('convertToInteractive',\n",
              "                                                     [key], {});\n",
              "          if (!dataTable) return;\n",
              "\n",
              "          const docLinkHtml = 'Like what you see? Visit the ' +\n",
              "            '<a target=\"_blank\" href=https://colab.research.google.com/notebooks/data_table.ipynb>data table notebook</a>'\n",
              "            + ' to learn more about interactive tables.';\n",
              "          element.innerHTML = '';\n",
              "          dataTable['output_type'] = 'display_data';\n",
              "          await google.colab.output.renderOutput(dataTable, element);\n",
              "          const docLink = document.createElement('div');\n",
              "          docLink.innerHTML = docLinkHtml;\n",
              "          element.appendChild(docLink);\n",
              "        }\n",
              "      </script>\n",
              "    </div>\n",
              "  </div>\n",
              "  "
            ]
          },
          "metadata": {},
          "execution_count": 6
        }
      ]
    },
    {
      "cell_type": "code",
      "source": [
        "df['State Name'] = df['State Name'].astype('category')"
      ],
      "metadata": {
        "id": "Umb1UqStgBXF"
      },
      "execution_count": 13,
      "outputs": []
    },
    {
      "cell_type": "code",
      "source": [
        "State_x = df.drop('State Name', axis=1)\n",
        "State_y = df['State Name']"
      ],
      "metadata": {
        "id": "I9dSxxZXdS3b"
      },
      "execution_count": 14,
      "outputs": []
    },
    {
      "cell_type": "markdown",
      "source": [],
      "metadata": {
        "id": "gQt1ormreEfb"
      }
    },
    {
      "cell_type": "code",
      "source": [
        "State_x_encoded = pd.get_dummies(State_x, drop_first=True)"
      ],
      "metadata": {
        "id": "nF5hTGCNeENK"
      },
      "execution_count": 15,
      "outputs": []
    },
    {
      "cell_type": "code",
      "source": [
        "df.describe()\n"
      ],
      "metadata": {
        "colab": {
          "base_uri": "https://localhost:8080/",
          "height": 300
        },
        "id": "D-r3k08qf3UP",
        "outputId": "f7074ade-80ce-4a71-99c8-9800743a1831"
      },
      "execution_count": 17,
      "outputs": [
        {
          "output_type": "execute_result",
          "data": {
            "text/plain": [
              "          State Code    County Code            AQI  Number of Sites Reporting\n",
              "count  218196.000000  218196.000000  218196.000000              218196.000000\n",
              "mean       30.178390      82.098265      39.584250                   1.924220\n",
              "std        15.755914      89.555906      21.547055                   2.251967\n",
              "min         1.000000       1.000000       0.000000                   1.000000\n",
              "25%        18.000000      25.000000      29.000000                   1.000000\n",
              "50%        30.000000      61.000000      38.000000                   1.000000\n",
              "75%        42.000000     111.000000      47.000000                   2.000000\n",
              "max        80.000000     810.000000    2723.000000                  34.000000"
            ],
            "text/html": [
              "\n",
              "  <div id=\"df-bcd9f5d6-0e14-4fe4-bd84-a917c7232abd\">\n",
              "    <div class=\"colab-df-container\">\n",
              "      <div>\n",
              "<style scoped>\n",
              "    .dataframe tbody tr th:only-of-type {\n",
              "        vertical-align: middle;\n",
              "    }\n",
              "\n",
              "    .dataframe tbody tr th {\n",
              "        vertical-align: top;\n",
              "    }\n",
              "\n",
              "    .dataframe thead th {\n",
              "        text-align: right;\n",
              "    }\n",
              "</style>\n",
              "<table border=\"1\" class=\"dataframe\">\n",
              "  <thead>\n",
              "    <tr style=\"text-align: right;\">\n",
              "      <th></th>\n",
              "      <th>State Code</th>\n",
              "      <th>County Code</th>\n",
              "      <th>AQI</th>\n",
              "      <th>Number of Sites Reporting</th>\n",
              "    </tr>\n",
              "  </thead>\n",
              "  <tbody>\n",
              "    <tr>\n",
              "      <th>count</th>\n",
              "      <td>218196.000000</td>\n",
              "      <td>218196.000000</td>\n",
              "      <td>218196.000000</td>\n",
              "      <td>218196.000000</td>\n",
              "    </tr>\n",
              "    <tr>\n",
              "      <th>mean</th>\n",
              "      <td>30.178390</td>\n",
              "      <td>82.098265</td>\n",
              "      <td>39.584250</td>\n",
              "      <td>1.924220</td>\n",
              "    </tr>\n",
              "    <tr>\n",
              "      <th>std</th>\n",
              "      <td>15.755914</td>\n",
              "      <td>89.555906</td>\n",
              "      <td>21.547055</td>\n",
              "      <td>2.251967</td>\n",
              "    </tr>\n",
              "    <tr>\n",
              "      <th>min</th>\n",
              "      <td>1.000000</td>\n",
              "      <td>1.000000</td>\n",
              "      <td>0.000000</td>\n",
              "      <td>1.000000</td>\n",
              "    </tr>\n",
              "    <tr>\n",
              "      <th>25%</th>\n",
              "      <td>18.000000</td>\n",
              "      <td>25.000000</td>\n",
              "      <td>29.000000</td>\n",
              "      <td>1.000000</td>\n",
              "    </tr>\n",
              "    <tr>\n",
              "      <th>50%</th>\n",
              "      <td>30.000000</td>\n",
              "      <td>61.000000</td>\n",
              "      <td>38.000000</td>\n",
              "      <td>1.000000</td>\n",
              "    </tr>\n",
              "    <tr>\n",
              "      <th>75%</th>\n",
              "      <td>42.000000</td>\n",
              "      <td>111.000000</td>\n",
              "      <td>47.000000</td>\n",
              "      <td>2.000000</td>\n",
              "    </tr>\n",
              "    <tr>\n",
              "      <th>max</th>\n",
              "      <td>80.000000</td>\n",
              "      <td>810.000000</td>\n",
              "      <td>2723.000000</td>\n",
              "      <td>34.000000</td>\n",
              "    </tr>\n",
              "  </tbody>\n",
              "</table>\n",
              "</div>\n",
              "      <button class=\"colab-df-convert\" onclick=\"convertToInteractive('df-bcd9f5d6-0e14-4fe4-bd84-a917c7232abd')\"\n",
              "              title=\"Convert this dataframe to an interactive table.\"\n",
              "              style=\"display:none;\">\n",
              "        \n",
              "  <svg xmlns=\"http://www.w3.org/2000/svg\" height=\"24px\"viewBox=\"0 0 24 24\"\n",
              "       width=\"24px\">\n",
              "    <path d=\"M0 0h24v24H0V0z\" fill=\"none\"/>\n",
              "    <path d=\"M18.56 5.44l.94 2.06.94-2.06 2.06-.94-2.06-.94-.94-2.06-.94 2.06-2.06.94zm-11 1L8.5 8.5l.94-2.06 2.06-.94-2.06-.94L8.5 2.5l-.94 2.06-2.06.94zm10 10l.94 2.06.94-2.06 2.06-.94-2.06-.94-.94-2.06-.94 2.06-2.06.94z\"/><path d=\"M17.41 7.96l-1.37-1.37c-.4-.4-.92-.59-1.43-.59-.52 0-1.04.2-1.43.59L10.3 9.45l-7.72 7.72c-.78.78-.78 2.05 0 2.83L4 21.41c.39.39.9.59 1.41.59.51 0 1.02-.2 1.41-.59l7.78-7.78 2.81-2.81c.8-.78.8-2.07 0-2.86zM5.41 20L4 18.59l7.72-7.72 1.47 1.35L5.41 20z\"/>\n",
              "  </svg>\n",
              "      </button>\n",
              "      \n",
              "  <style>\n",
              "    .colab-df-container {\n",
              "      display:flex;\n",
              "      flex-wrap:wrap;\n",
              "      gap: 12px;\n",
              "    }\n",
              "\n",
              "    .colab-df-convert {\n",
              "      background-color: #E8F0FE;\n",
              "      border: none;\n",
              "      border-radius: 50%;\n",
              "      cursor: pointer;\n",
              "      display: none;\n",
              "      fill: #1967D2;\n",
              "      height: 32px;\n",
              "      padding: 0 0 0 0;\n",
              "      width: 32px;\n",
              "    }\n",
              "\n",
              "    .colab-df-convert:hover {\n",
              "      background-color: #E2EBFA;\n",
              "      box-shadow: 0px 1px 2px rgba(60, 64, 67, 0.3), 0px 1px 3px 1px rgba(60, 64, 67, 0.15);\n",
              "      fill: #174EA6;\n",
              "    }\n",
              "\n",
              "    [theme=dark] .colab-df-convert {\n",
              "      background-color: #3B4455;\n",
              "      fill: #D2E3FC;\n",
              "    }\n",
              "\n",
              "    [theme=dark] .colab-df-convert:hover {\n",
              "      background-color: #434B5C;\n",
              "      box-shadow: 0px 1px 3px 1px rgba(0, 0, 0, 0.15);\n",
              "      filter: drop-shadow(0px 1px 2px rgba(0, 0, 0, 0.3));\n",
              "      fill: #FFFFFF;\n",
              "    }\n",
              "  </style>\n",
              "\n",
              "      <script>\n",
              "        const buttonEl =\n",
              "          document.querySelector('#df-bcd9f5d6-0e14-4fe4-bd84-a917c7232abd button.colab-df-convert');\n",
              "        buttonEl.style.display =\n",
              "          google.colab.kernel.accessAllowed ? 'block' : 'none';\n",
              "\n",
              "        async function convertToInteractive(key) {\n",
              "          const element = document.querySelector('#df-bcd9f5d6-0e14-4fe4-bd84-a917c7232abd');\n",
              "          const dataTable =\n",
              "            await google.colab.kernel.invokeFunction('convertToInteractive',\n",
              "                                                     [key], {});\n",
              "          if (!dataTable) return;\n",
              "\n",
              "          const docLinkHtml = 'Like what you see? Visit the ' +\n",
              "            '<a target=\"_blank\" href=https://colab.research.google.com/notebooks/data_table.ipynb>data table notebook</a>'\n",
              "            + ' to learn more about interactive tables.';\n",
              "          element.innerHTML = '';\n",
              "          dataTable['output_type'] = 'display_data';\n",
              "          await google.colab.output.renderOutput(dataTable, element);\n",
              "          const docLink = document.createElement('div');\n",
              "          docLink.innerHTML = docLinkHtml;\n",
              "          element.appendChild(docLink);\n",
              "        }\n",
              "      </script>\n",
              "    </div>\n",
              "  </div>\n",
              "  "
            ]
          },
          "metadata": {},
          "execution_count": 17
        }
      ]
    },
    {
      "cell_type": "markdown",
      "metadata": {
        "id": "Zp7wGDqJ4iuL"
      },
      "source": [
        "# Standardize attributes\n",
        "\n",
        "- Convert the \"college\" and \"considering_change_of_plan\" attributes to 0 or 1\n",
        "- Convert non-numeric attributes to numeric scale of 1-3\n"
      ]
    },
    {
      "cell_type": "code",
      "source": [
        "#Get distinct values\n",
        "df_clean['college'].unique() "
      ],
      "metadata": {
        "id": "xNDR1xg5dVzm"
      },
      "execution_count": null,
      "outputs": []
    },
    {
      "cell_type": "code",
      "source": [
        "df_clean['reported_satisfaction'] .unique()"
      ],
      "metadata": {
        "id": "cw6i_45td0JC"
      },
      "execution_count": null,
      "outputs": []
    },
    {
      "cell_type": "code",
      "source": [
        "df_clean['reported_usage_level'].unique()"
      ],
      "metadata": {
        "id": "YhFAu2W4dz_6"
      },
      "execution_count": null,
      "outputs": []
    },
    {
      "cell_type": "code",
      "source": [
        "df_clean['considering_change_of_plan'].unique()"
      ],
      "metadata": {
        "id": "rmJbiN8rdzxJ"
      },
      "execution_count": null,
      "outputs": []
    },
    {
      "cell_type": "code",
      "metadata": {
        "id": "gvMekcKg4y5X"
      },
      "source": [
        "df_clean.loc[df_clean['college'] == 'one', 'college'] = \"1\" \n",
        "df_clean.loc[df_clean['college'] == 'zero', 'college'] = \"0\"\n",
        "df.loc[df['reported_satisfaction'] == '', 'reported_satisfaction'] = \"1\"\n",
        "df_clean.loc[df_clean['reported_satisfaction'] == 'avg', 'reported_satisfaction'] = \"2\"\n",
        "df_clean.loc[df_clean['reported_satisfaction'] == 'high', 'reported_satisfaction'] = \"3\"\n",
        "df_clean.loc[df_clean['reported_usage_level'] == 'low', 'reported_usage_level'] = \"1\"\n",
        "df_clean.loc[df_clean['reported_usage_level'] == 'avg', 'reported_usage_level'] = \"2\"\n",
        "df_clean.loc[df_clean['reported_usage_level'] == 'high', 'reported_usage_level'] = \"3\"\n",
        "df_clean.loc[df_clean['considering_change_of_plan'] == 'yes', 'considering_change_of_plan'] = \"1\"\n",
        "df_clean.loc[df_clean['considering_change_of_plan'] == 'no', 'considering_change_of_plan'] = \"0\"\n",
        "df_clean.loc[df_clean['considering_change_of_plan'] == 'maybe', 'considering_change_of_plan'] = \"0.5\"\n",
        "\n",
        "df_clean['college'] = df_clean['college'].astype('int') \n",
        "df_clean['reported_satisfaction'] = df_clean['reported_satisfaction'].astype('int') \n",
        "df_clean['reported_usage_level'] = df_clean['reported_usage_level'].astype('int') \n",
        "df_clean['considering_change_of_plan'] = df_clean['considering_change_of_plan'].astype('float') \n",
        "\n",
        "df_clean.head(10) "
      ],
      "execution_count": null,
      "outputs": []
    },
    {
      "cell_type": "markdown",
      "metadata": {
        "id": "AuB0G9gJt7gn"
      },
      "source": [
        "# Convert attributes to factors\n",
        "\n",
        "- Leave\n",
        "- College\n",
        "- Reported satisfaction\n",
        "- Reported usage level\n",
        "- Considering change of plan"
      ]
    },
    {
      "cell_type": "code",
      "metadata": {
        "id": "inCqTVMDt6ex"
      },
      "source": [
        "#Method #1\n",
        "#df_clean['leave'] = pd.Categorical(df_clean['leave'])\n",
        "\n",
        "#Method #2\n",
        "df['State Name'] = df['State Name'].astype('category')\n",
        "df_clean[''] = df_clean['college'].astype('category')\n",
        "\n",
        "df_clean.info()"
      ],
      "execution_count": null,
      "outputs": []
    },
    {
      "cell_type": "markdown",
      "metadata": {
        "id": "uathUi6xfDPf"
      },
      "source": [
        "## Calculate distribution of the outcome  \n",
        "What is the proportion of people who churned?\n",
        "\n",
        "Why should we care about this proportion?\n",
        "\n",
        "1. An important step in EDA is to understand the distribution of the target variable.\n",
        "\n",
        "2. The majority class in the target variable will serve as an important benchmark for model performance. If we used what we'll call a \"majority class classifier\"---this consists in always predicting the majority class, which in this case is `STAY`---we would be correct 1 - .49 or 51% of the time.  Another way of saying this is that majority class classifier in the MegaTelCo case would result in accuracy of .51.  \n",
        "\n",
        "Accuracy is defined as the proportion of correctly predicted labels. It is a commonly used error metric for evaluating classifier performance.\n",
        "\n",
        "Think about why a majority class model in this case would have an accuracy of .51.\n",
        "\n",
        "Whatever later model we develop should have better accuracy than this performance benchmark."
      ]
    },
    {
      "cell_type": "code",
      "metadata": {
        "id": "bC93rEgNfFNh"
      },
      "source": [
        "#Add new field with binary value for leave  \n",
        "df_clean['leave_flag'] = df_clean['leave'].str.replace('STAY','0')  \n",
        "df_clean['leave_flag'] = df_clean['leave_flag'].str.replace('LEAVE','1')\n",
        "\n",
        "#Convert to integer\n",
        "df_clean['leave_flag'] = df_clean['leave_flag'].astype('int')\n",
        "\n",
        "#Find the mean value\n",
        "df_clean['leave_flag'].mean()\n"
      ],
      "execution_count": null,
      "outputs": []
    },
    {
      "cell_type": "markdown",
      "metadata": {
        "id": "SoJLJMlceORN"
      },
      "source": [
        "## Fit a basic tree model\n",
        "\n",
        "Use just two variables, 'income' and 'house'. We'll call this the \"money tree.\" \n",
        "\n",
        "What is the accuracy of the money tree? "
      ]
    },
    {
      "cell_type": "code",
      "metadata": {
        "id": "WBH7aRXbOUf4"
      },
      "source": [
        "# split the datafram into independent (x) and dependent (predicted) attributes (y)\n",
        "x = df[['AQI']]\n",
        "y = df['State Name']\n",
        "\n",
        "money_tree = DecisionTreeClassifier()\n",
        "\n",
        "# Create Decision Tree Classifer\n",
        "money_tree = money_tree.fit(x,y)\n"
      ],
      "execution_count": 19,
      "outputs": []
    },
    {
      "cell_type": "markdown",
      "source": [
        "## Preview the tree\n"
      ],
      "metadata": {
        "id": "x5n0jUSL8Nde"
      }
    },
    {
      "cell_type": "code",
      "source": [
        "money_tree_text = tree.export_text(money_tree)\n",
        "print(money_tree_text)"
      ],
      "metadata": {
        "id": "lUzUB50D8SHt",
        "colab": {
          "base_uri": "https://localhost:8080/"
        },
        "outputId": "bf82a1d6-8e9a-43b4-bf08-6f3099dde729"
      },
      "execution_count": 20,
      "outputs": [
        {
          "output_type": "stream",
          "name": "stdout",
          "text": [
            "|--- feature_0 <= 23.50\n",
            "|   |--- feature_0 <= 4.50\n",
            "|   |   |--- feature_0 <= 0.50\n",
            "|   |   |   |--- class: Texas\n",
            "|   |   |--- feature_0 >  0.50\n",
            "|   |   |   |--- feature_0 <= 1.50\n",
            "|   |   |   |   |--- class: Illinois\n",
            "|   |   |   |--- feature_0 >  1.50\n",
            "|   |   |   |   |--- feature_0 <= 2.50\n",
            "|   |   |   |   |   |--- class: Virginia\n",
            "|   |   |   |   |--- feature_0 >  2.50\n",
            "|   |   |   |   |   |--- feature_0 <= 3.50\n",
            "|   |   |   |   |   |   |--- class: Illinois\n",
            "|   |   |   |   |   |--- feature_0 >  3.50\n",
            "|   |   |   |   |   |   |--- class: Ohio\n",
            "|   |--- feature_0 >  4.50\n",
            "|   |   |--- feature_0 <= 15.50\n",
            "|   |   |   |--- feature_0 <= 7.50\n",
            "|   |   |   |   |--- feature_0 <= 5.50\n",
            "|   |   |   |   |   |--- class: Washington\n",
            "|   |   |   |   |--- feature_0 >  5.50\n",
            "|   |   |   |   |   |--- feature_0 <= 6.50\n",
            "|   |   |   |   |   |   |--- class: Ohio\n",
            "|   |   |   |   |   |--- feature_0 >  6.50\n",
            "|   |   |   |   |   |   |--- class: Washington\n",
            "|   |   |   |--- feature_0 >  7.50\n",
            "|   |   |   |   |--- feature_0 <= 9.50\n",
            "|   |   |   |   |   |--- feature_0 <= 8.50\n",
            "|   |   |   |   |   |   |--- class: Washington\n",
            "|   |   |   |   |   |--- feature_0 >  8.50\n",
            "|   |   |   |   |   |   |--- class: Washington\n",
            "|   |   |   |   |--- feature_0 >  9.50\n",
            "|   |   |   |   |   |--- feature_0 <= 12.50\n",
            "|   |   |   |   |   |   |--- feature_0 <= 10.50\n",
            "|   |   |   |   |   |   |   |--- class: Washington\n",
            "|   |   |   |   |   |   |--- feature_0 >  10.50\n",
            "|   |   |   |   |   |   |   |--- feature_0 <= 11.50\n",
            "|   |   |   |   |   |   |   |   |--- class: Oregon\n",
            "|   |   |   |   |   |   |   |--- feature_0 >  11.50\n",
            "|   |   |   |   |   |   |   |   |--- class: Washington\n",
            "|   |   |   |   |   |--- feature_0 >  12.50\n",
            "|   |   |   |   |   |   |--- feature_0 <= 13.50\n",
            "|   |   |   |   |   |   |   |--- class: Washington\n",
            "|   |   |   |   |   |   |--- feature_0 >  13.50\n",
            "|   |   |   |   |   |   |   |--- feature_0 <= 14.50\n",
            "|   |   |   |   |   |   |   |   |--- class: Oregon\n",
            "|   |   |   |   |   |   |   |--- feature_0 >  14.50\n",
            "|   |   |   |   |   |   |   |   |--- class: Washington\n",
            "|   |   |--- feature_0 >  15.50\n",
            "|   |   |   |--- feature_0 <= 18.50\n",
            "|   |   |   |   |--- feature_0 <= 17.50\n",
            "|   |   |   |   |   |--- feature_0 <= 16.50\n",
            "|   |   |   |   |   |   |--- class: Washington\n",
            "|   |   |   |   |   |--- feature_0 >  16.50\n",
            "|   |   |   |   |   |   |--- class: Washington\n",
            "|   |   |   |   |--- feature_0 >  17.50\n",
            "|   |   |   |   |   |--- class: Washington\n",
            "|   |   |   |--- feature_0 >  18.50\n",
            "|   |   |   |   |--- feature_0 <= 20.50\n",
            "|   |   |   |   |   |--- feature_0 <= 19.50\n",
            "|   |   |   |   |   |   |--- class: Texas\n",
            "|   |   |   |   |   |--- feature_0 >  19.50\n",
            "|   |   |   |   |   |   |--- class: Washington\n",
            "|   |   |   |   |--- feature_0 >  20.50\n",
            "|   |   |   |   |   |--- feature_0 <= 22.50\n",
            "|   |   |   |   |   |   |--- feature_0 <= 21.50\n",
            "|   |   |   |   |   |   |   |--- class: Texas\n",
            "|   |   |   |   |   |   |--- feature_0 >  21.50\n",
            "|   |   |   |   |   |   |   |--- class: Georgia\n",
            "|   |   |   |   |   |--- feature_0 >  22.50\n",
            "|   |   |   |   |   |   |--- class: Texas\n",
            "|--- feature_0 >  23.50\n",
            "|   |--- feature_0 <= 75.50\n",
            "|   |   |--- feature_0 <= 40.50\n",
            "|   |   |   |--- feature_0 <= 30.50\n",
            "|   |   |   |   |--- feature_0 <= 27.50\n",
            "|   |   |   |   |   |--- feature_0 <= 25.50\n",
            "|   |   |   |   |   |   |--- feature_0 <= 24.50\n",
            "|   |   |   |   |   |   |   |--- class: Texas\n",
            "|   |   |   |   |   |   |--- feature_0 >  24.50\n",
            "|   |   |   |   |   |   |   |--- class: Texas\n",
            "|   |   |   |   |   |--- feature_0 >  25.50\n",
            "|   |   |   |   |   |   |--- feature_0 <= 26.50\n",
            "|   |   |   |   |   |   |   |--- class: Texas\n",
            "|   |   |   |   |   |   |--- feature_0 >  26.50\n",
            "|   |   |   |   |   |   |   |--- class: Texas\n",
            "|   |   |   |   |--- feature_0 >  27.50\n",
            "|   |   |   |   |   |--- feature_0 <= 28.50\n",
            "|   |   |   |   |   |   |--- class: Indiana\n",
            "|   |   |   |   |   |--- feature_0 >  28.50\n",
            "|   |   |   |   |   |   |--- feature_0 <= 29.50\n",
            "|   |   |   |   |   |   |   |--- class: Indiana\n",
            "|   |   |   |   |   |   |--- feature_0 >  29.50\n",
            "|   |   |   |   |   |   |   |--- class: Texas\n",
            "|   |   |   |--- feature_0 >  30.50\n",
            "|   |   |   |   |--- feature_0 <= 34.50\n",
            "|   |   |   |   |   |--- feature_0 <= 31.50\n",
            "|   |   |   |   |   |   |--- class: Pennsylvania\n",
            "|   |   |   |   |   |--- feature_0 >  31.50\n",
            "|   |   |   |   |   |   |--- feature_0 <= 32.50\n",
            "|   |   |   |   |   |   |   |--- class: New York\n",
            "|   |   |   |   |   |   |--- feature_0 >  32.50\n",
            "|   |   |   |   |   |   |   |--- feature_0 <= 33.50\n",
            "|   |   |   |   |   |   |   |   |--- class: Pennsylvania\n",
            "|   |   |   |   |   |   |   |--- feature_0 >  33.50\n",
            "|   |   |   |   |   |   |   |   |--- class: Pennsylvania\n",
            "|   |   |   |   |--- feature_0 >  34.50\n",
            "|   |   |   |   |   |--- feature_0 <= 36.50\n",
            "|   |   |   |   |   |   |--- feature_0 <= 35.50\n",
            "|   |   |   |   |   |   |   |--- class: Pennsylvania\n",
            "|   |   |   |   |   |   |--- feature_0 >  35.50\n",
            "|   |   |   |   |   |   |   |--- class: California\n",
            "|   |   |   |   |   |--- feature_0 >  36.50\n",
            "|   |   |   |   |   |   |--- feature_0 <= 39.50\n",
            "|   |   |   |   |   |   |   |--- feature_0 <= 37.50\n",
            "|   |   |   |   |   |   |   |   |--- class: Ohio\n",
            "|   |   |   |   |   |   |   |--- feature_0 >  37.50\n",
            "|   |   |   |   |   |   |   |   |--- feature_0 <= 38.50\n",
            "|   |   |   |   |   |   |   |   |   |--- class: Ohio\n",
            "|   |   |   |   |   |   |   |   |--- feature_0 >  38.50\n",
            "|   |   |   |   |   |   |   |   |   |--- class: Ohio\n",
            "|   |   |   |   |   |   |--- feature_0 >  39.50\n",
            "|   |   |   |   |   |   |   |--- class: California\n",
            "|   |   |--- feature_0 >  40.50\n",
            "|   |   |   |--- feature_0 <= 51.50\n",
            "|   |   |   |   |--- feature_0 <= 43.50\n",
            "|   |   |   |   |   |--- feature_0 <= 41.50\n",
            "|   |   |   |   |   |   |--- class: Ohio\n",
            "|   |   |   |   |   |--- feature_0 >  41.50\n",
            "|   |   |   |   |   |   |--- feature_0 <= 42.50\n",
            "|   |   |   |   |   |   |   |--- class: California\n",
            "|   |   |   |   |   |   |--- feature_0 >  42.50\n",
            "|   |   |   |   |   |   |   |--- class: California\n",
            "|   |   |   |   |--- feature_0 >  43.50\n",
            "|   |   |   |   |   |--- feature_0 <= 47.50\n",
            "|   |   |   |   |   |   |--- feature_0 <= 44.50\n",
            "|   |   |   |   |   |   |   |--- class: California\n",
            "|   |   |   |   |   |   |--- feature_0 >  44.50\n",
            "|   |   |   |   |   |   |   |--- feature_0 <= 45.50\n",
            "|   |   |   |   |   |   |   |   |--- class: Ohio\n",
            "|   |   |   |   |   |   |   |--- feature_0 >  45.50\n",
            "|   |   |   |   |   |   |   |   |--- feature_0 <= 46.50\n",
            "|   |   |   |   |   |   |   |   |   |--- class: California\n",
            "|   |   |   |   |   |   |   |   |--- feature_0 >  46.50\n",
            "|   |   |   |   |   |   |   |   |   |--- class: California\n",
            "|   |   |   |   |   |--- feature_0 >  47.50\n",
            "|   |   |   |   |   |   |--- feature_0 <= 48.50\n",
            "|   |   |   |   |   |   |   |--- class: California\n",
            "|   |   |   |   |   |   |--- feature_0 >  48.50\n",
            "|   |   |   |   |   |   |   |--- feature_0 <= 50.50\n",
            "|   |   |   |   |   |   |   |   |--- feature_0 <= 49.50\n",
            "|   |   |   |   |   |   |   |   |   |--- class: California\n",
            "|   |   |   |   |   |   |   |   |--- feature_0 >  49.50\n",
            "|   |   |   |   |   |   |   |   |   |--- class: California\n",
            "|   |   |   |   |   |   |   |--- feature_0 >  50.50\n",
            "|   |   |   |   |   |   |   |   |--- class: California\n",
            "|   |   |   |--- feature_0 >  51.50\n",
            "|   |   |   |   |--- feature_0 <= 57.50\n",
            "|   |   |   |   |   |--- feature_0 <= 53.50\n",
            "|   |   |   |   |   |   |--- feature_0 <= 52.50\n",
            "|   |   |   |   |   |   |   |--- class: California\n",
            "|   |   |   |   |   |   |--- feature_0 >  52.50\n",
            "|   |   |   |   |   |   |   |--- class: California\n",
            "|   |   |   |   |   |--- feature_0 >  53.50\n",
            "|   |   |   |   |   |   |--- feature_0 <= 54.50\n",
            "|   |   |   |   |   |   |   |--- class: California\n",
            "|   |   |   |   |   |   |--- feature_0 >  54.50\n",
            "|   |   |   |   |   |   |   |--- feature_0 <= 56.50\n",
            "|   |   |   |   |   |   |   |   |--- feature_0 <= 55.50\n",
            "|   |   |   |   |   |   |   |   |   |--- class: California\n",
            "|   |   |   |   |   |   |   |   |--- feature_0 >  55.50\n",
            "|   |   |   |   |   |   |   |   |   |--- class: California\n",
            "|   |   |   |   |   |   |   |--- feature_0 >  56.50\n",
            "|   |   |   |   |   |   |   |   |--- class: California\n",
            "|   |   |   |   |--- feature_0 >  57.50\n",
            "|   |   |   |   |   |--- feature_0 <= 70.50\n",
            "|   |   |   |   |   |   |--- feature_0 <= 67.50\n",
            "|   |   |   |   |   |   |   |--- feature_0 <= 66.50\n",
            "|   |   |   |   |   |   |   |   |--- feature_0 <= 64.50\n",
            "|   |   |   |   |   |   |   |   |   |--- feature_0 <= 63.50\n",
            "|   |   |   |   |   |   |   |   |   |   |--- feature_0 <= 61.50\n",
            "|   |   |   |   |   |   |   |   |   |   |   |--- truncated branch of depth 4\n",
            "|   |   |   |   |   |   |   |   |   |   |--- feature_0 >  61.50\n",
            "|   |   |   |   |   |   |   |   |   |   |   |--- truncated branch of depth 2\n",
            "|   |   |   |   |   |   |   |   |   |--- feature_0 >  63.50\n",
            "|   |   |   |   |   |   |   |   |   |   |--- class: California\n",
            "|   |   |   |   |   |   |   |   |--- feature_0 >  64.50\n",
            "|   |   |   |   |   |   |   |   |   |--- feature_0 <= 65.50\n",
            "|   |   |   |   |   |   |   |   |   |   |--- class: California\n",
            "|   |   |   |   |   |   |   |   |   |--- feature_0 >  65.50\n",
            "|   |   |   |   |   |   |   |   |   |   |--- class: California\n",
            "|   |   |   |   |   |   |   |--- feature_0 >  66.50\n",
            "|   |   |   |   |   |   |   |   |--- class: California\n",
            "|   |   |   |   |   |   |--- feature_0 >  67.50\n",
            "|   |   |   |   |   |   |   |--- feature_0 <= 68.50\n",
            "|   |   |   |   |   |   |   |   |--- class: California\n",
            "|   |   |   |   |   |   |   |--- feature_0 >  68.50\n",
            "|   |   |   |   |   |   |   |   |--- feature_0 <= 69.50\n",
            "|   |   |   |   |   |   |   |   |   |--- class: California\n",
            "|   |   |   |   |   |   |   |   |--- feature_0 >  69.50\n",
            "|   |   |   |   |   |   |   |   |   |--- class: California\n",
            "|   |   |   |   |   |--- feature_0 >  70.50\n",
            "|   |   |   |   |   |   |--- feature_0 <= 71.50\n",
            "|   |   |   |   |   |   |   |--- class: California\n",
            "|   |   |   |   |   |   |--- feature_0 >  71.50\n",
            "|   |   |   |   |   |   |   |--- feature_0 <= 73.50\n",
            "|   |   |   |   |   |   |   |   |--- feature_0 <= 72.50\n",
            "|   |   |   |   |   |   |   |   |   |--- class: Pennsylvania\n",
            "|   |   |   |   |   |   |   |   |--- feature_0 >  72.50\n",
            "|   |   |   |   |   |   |   |   |   |--- class: Ohio\n",
            "|   |   |   |   |   |   |   |--- feature_0 >  73.50\n",
            "|   |   |   |   |   |   |   |   |--- feature_0 <= 74.50\n",
            "|   |   |   |   |   |   |   |   |   |--- class: California\n",
            "|   |   |   |   |   |   |   |   |--- feature_0 >  74.50\n",
            "|   |   |   |   |   |   |   |   |   |--- class: California\n",
            "|   |--- feature_0 >  75.50\n",
            "|   |   |--- feature_0 <= 107.50\n",
            "|   |   |   |--- feature_0 <= 91.50\n",
            "|   |   |   |   |--- feature_0 <= 86.50\n",
            "|   |   |   |   |   |--- feature_0 <= 80.50\n",
            "|   |   |   |   |   |   |--- feature_0 <= 76.50\n",
            "|   |   |   |   |   |   |   |--- class: California\n",
            "|   |   |   |   |   |   |--- feature_0 >  76.50\n",
            "|   |   |   |   |   |   |   |--- feature_0 <= 77.50\n",
            "|   |   |   |   |   |   |   |   |--- class: California\n",
            "|   |   |   |   |   |   |   |--- feature_0 >  77.50\n",
            "|   |   |   |   |   |   |   |   |--- feature_0 <= 79.50\n",
            "|   |   |   |   |   |   |   |   |   |--- feature_0 <= 78.50\n",
            "|   |   |   |   |   |   |   |   |   |   |--- class: California\n",
            "|   |   |   |   |   |   |   |   |   |--- feature_0 >  78.50\n",
            "|   |   |   |   |   |   |   |   |   |   |--- class: California\n",
            "|   |   |   |   |   |   |   |   |--- feature_0 >  79.50\n",
            "|   |   |   |   |   |   |   |   |   |--- class: California\n",
            "|   |   |   |   |   |--- feature_0 >  80.50\n",
            "|   |   |   |   |   |   |--- feature_0 <= 83.50\n",
            "|   |   |   |   |   |   |   |--- feature_0 <= 81.50\n",
            "|   |   |   |   |   |   |   |   |--- class: California\n",
            "|   |   |   |   |   |   |   |--- feature_0 >  81.50\n",
            "|   |   |   |   |   |   |   |   |--- feature_0 <= 82.50\n",
            "|   |   |   |   |   |   |   |   |   |--- class: California\n",
            "|   |   |   |   |   |   |   |   |--- feature_0 >  82.50\n",
            "|   |   |   |   |   |   |   |   |   |--- class: California\n",
            "|   |   |   |   |   |   |--- feature_0 >  83.50\n",
            "|   |   |   |   |   |   |   |--- feature_0 <= 84.50\n",
            "|   |   |   |   |   |   |   |   |--- class: California\n",
            "|   |   |   |   |   |   |   |--- feature_0 >  84.50\n",
            "|   |   |   |   |   |   |   |   |--- feature_0 <= 85.50\n",
            "|   |   |   |   |   |   |   |   |   |--- class: Pennsylvania\n",
            "|   |   |   |   |   |   |   |   |--- feature_0 >  85.50\n",
            "|   |   |   |   |   |   |   |   |   |--- class: California\n",
            "|   |   |   |   |--- feature_0 >  86.50\n",
            "|   |   |   |   |   |--- feature_0 <= 90.50\n",
            "|   |   |   |   |   |   |--- feature_0 <= 89.50\n",
            "|   |   |   |   |   |   |   |--- feature_0 <= 87.50\n",
            "|   |   |   |   |   |   |   |   |--- class: California\n",
            "|   |   |   |   |   |   |   |--- feature_0 >  87.50\n",
            "|   |   |   |   |   |   |   |   |--- feature_0 <= 88.50\n",
            "|   |   |   |   |   |   |   |   |   |--- class: California\n",
            "|   |   |   |   |   |   |   |   |--- feature_0 >  88.50\n",
            "|   |   |   |   |   |   |   |   |   |--- class: California\n",
            "|   |   |   |   |   |   |--- feature_0 >  89.50\n",
            "|   |   |   |   |   |   |   |--- class: California\n",
            "|   |   |   |   |   |--- feature_0 >  90.50\n",
            "|   |   |   |   |   |   |--- class: California\n",
            "|   |   |   |--- feature_0 >  91.50\n",
            "|   |   |   |   |--- feature_0 <= 92.50\n",
            "|   |   |   |   |   |--- class: California\n",
            "|   |   |   |   |--- feature_0 >  92.50\n",
            "|   |   |   |   |   |--- feature_0 <= 105.50\n",
            "|   |   |   |   |   |   |--- feature_0 <= 104.50\n",
            "|   |   |   |   |   |   |   |--- feature_0 <= 101.50\n",
            "|   |   |   |   |   |   |   |   |--- feature_0 <= 99.50\n",
            "|   |   |   |   |   |   |   |   |   |--- feature_0 <= 97.50\n",
            "|   |   |   |   |   |   |   |   |   |   |--- feature_0 <= 93.50\n",
            "|   |   |   |   |   |   |   |   |   |   |   |--- class: California\n",
            "|   |   |   |   |   |   |   |   |   |   |--- feature_0 >  93.50\n",
            "|   |   |   |   |   |   |   |   |   |   |   |--- truncated branch of depth 4\n",
            "|   |   |   |   |   |   |   |   |   |--- feature_0 >  97.50\n",
            "|   |   |   |   |   |   |   |   |   |   |--- feature_0 <= 98.50\n",
            "|   |   |   |   |   |   |   |   |   |   |   |--- class: Iowa\n",
            "|   |   |   |   |   |   |   |   |   |   |--- feature_0 >  98.50\n",
            "|   |   |   |   |   |   |   |   |   |   |   |--- class: California\n",
            "|   |   |   |   |   |   |   |   |--- feature_0 >  99.50\n",
            "|   |   |   |   |   |   |   |   |   |--- feature_0 <= 100.50\n",
            "|   |   |   |   |   |   |   |   |   |   |--- class: California\n",
            "|   |   |   |   |   |   |   |   |   |--- feature_0 >  100.50\n",
            "|   |   |   |   |   |   |   |   |   |   |--- class: California\n",
            "|   |   |   |   |   |   |   |--- feature_0 >  101.50\n",
            "|   |   |   |   |   |   |   |   |--- feature_0 <= 103.50\n",
            "|   |   |   |   |   |   |   |   |   |--- feature_0 <= 102.50\n",
            "|   |   |   |   |   |   |   |   |   |   |--- class: Texas\n",
            "|   |   |   |   |   |   |   |   |   |--- feature_0 >  102.50\n",
            "|   |   |   |   |   |   |   |   |   |   |--- class: Texas\n",
            "|   |   |   |   |   |   |   |   |--- feature_0 >  103.50\n",
            "|   |   |   |   |   |   |   |   |   |--- class: California\n",
            "|   |   |   |   |   |   |--- feature_0 >  104.50\n",
            "|   |   |   |   |   |   |   |--- class: California\n",
            "|   |   |   |   |   |--- feature_0 >  105.50\n",
            "|   |   |   |   |   |   |--- feature_0 <= 106.50\n",
            "|   |   |   |   |   |   |   |--- class: California\n",
            "|   |   |   |   |   |   |--- feature_0 >  106.50\n",
            "|   |   |   |   |   |   |   |--- class: California\n",
            "|   |   |--- feature_0 >  107.50\n",
            "|   |   |   |--- feature_0 <= 160.50\n",
            "|   |   |   |   |--- feature_0 <= 140.50\n",
            "|   |   |   |   |   |--- feature_0 <= 114.50\n",
            "|   |   |   |   |   |   |--- feature_0 <= 112.50\n",
            "|   |   |   |   |   |   |   |--- feature_0 <= 111.50\n",
            "|   |   |   |   |   |   |   |   |--- feature_0 <= 108.50\n",
            "|   |   |   |   |   |   |   |   |   |--- class: California\n",
            "|   |   |   |   |   |   |   |   |--- feature_0 >  108.50\n",
            "|   |   |   |   |   |   |   |   |   |--- feature_0 <= 110.50\n",
            "|   |   |   |   |   |   |   |   |   |   |--- feature_0 <= 109.50\n",
            "|   |   |   |   |   |   |   |   |   |   |   |--- class: Missouri\n",
            "|   |   |   |   |   |   |   |   |   |   |--- feature_0 >  109.50\n",
            "|   |   |   |   |   |   |   |   |   |   |   |--- class: California\n",
            "|   |   |   |   |   |   |   |   |   |--- feature_0 >  110.50\n",
            "|   |   |   |   |   |   |   |   |   |   |--- class: California\n",
            "|   |   |   |   |   |   |   |--- feature_0 >  111.50\n",
            "|   |   |   |   |   |   |   |   |--- class: California\n",
            "|   |   |   |   |   |   |--- feature_0 >  112.50\n",
            "|   |   |   |   |   |   |   |--- feature_0 <= 113.50\n",
            "|   |   |   |   |   |   |   |   |--- class: California\n",
            "|   |   |   |   |   |   |   |--- feature_0 >  113.50\n",
            "|   |   |   |   |   |   |   |   |--- class: California\n",
            "|   |   |   |   |   |--- feature_0 >  114.50\n",
            "|   |   |   |   |   |   |--- feature_0 <= 115.50\n",
            "|   |   |   |   |   |   |   |--- class: California\n",
            "|   |   |   |   |   |   |--- feature_0 >  115.50\n",
            "|   |   |   |   |   |   |   |--- feature_0 <= 118.50\n",
            "|   |   |   |   |   |   |   |   |--- feature_0 <= 116.50\n",
            "|   |   |   |   |   |   |   |   |   |--- class: California\n",
            "|   |   |   |   |   |   |   |   |--- feature_0 >  116.50\n",
            "|   |   |   |   |   |   |   |   |   |--- feature_0 <= 117.50\n",
            "|   |   |   |   |   |   |   |   |   |   |--- class: Utah\n",
            "|   |   |   |   |   |   |   |   |   |--- feature_0 >  117.50\n",
            "|   |   |   |   |   |   |   |   |   |   |--- class: California\n",
            "|   |   |   |   |   |   |   |--- feature_0 >  118.50\n",
            "|   |   |   |   |   |   |   |   |--- feature_0 <= 135.50\n",
            "|   |   |   |   |   |   |   |   |   |--- feature_0 <= 134.50\n",
            "|   |   |   |   |   |   |   |   |   |   |--- feature_0 <= 133.50\n",
            "|   |   |   |   |   |   |   |   |   |   |   |--- truncated branch of depth 6\n",
            "|   |   |   |   |   |   |   |   |   |   |--- feature_0 >  133.50\n",
            "|   |   |   |   |   |   |   |   |   |   |   |--- class: Missouri\n",
            "|   |   |   |   |   |   |   |   |   |--- feature_0 >  134.50\n",
            "|   |   |   |   |   |   |   |   |   |   |--- class: Texas\n",
            "|   |   |   |   |   |   |   |   |--- feature_0 >  135.50\n",
            "|   |   |   |   |   |   |   |   |   |--- feature_0 <= 136.50\n",
            "|   |   |   |   |   |   |   |   |   |   |--- class: Colorado\n",
            "|   |   |   |   |   |   |   |   |   |--- feature_0 >  136.50\n",
            "|   |   |   |   |   |   |   |   |   |   |--- feature_0 <= 139.50\n",
            "|   |   |   |   |   |   |   |   |   |   |   |--- truncated branch of depth 3\n",
            "|   |   |   |   |   |   |   |   |   |   |--- feature_0 >  139.50\n",
            "|   |   |   |   |   |   |   |   |   |   |   |--- class: California\n",
            "|   |   |   |   |--- feature_0 >  140.50\n",
            "|   |   |   |   |   |--- feature_0 <= 141.50\n",
            "|   |   |   |   |   |   |--- class: Missouri\n",
            "|   |   |   |   |   |--- feature_0 >  141.50\n",
            "|   |   |   |   |   |   |--- feature_0 <= 151.50\n",
            "|   |   |   |   |   |   |   |--- feature_0 <= 144.50\n",
            "|   |   |   |   |   |   |   |   |--- feature_0 <= 142.50\n",
            "|   |   |   |   |   |   |   |   |   |--- class: Alabama\n",
            "|   |   |   |   |   |   |   |   |--- feature_0 >  142.50\n",
            "|   |   |   |   |   |   |   |   |   |--- feature_0 <= 143.50\n",
            "|   |   |   |   |   |   |   |   |   |   |--- class: California\n",
            "|   |   |   |   |   |   |   |   |   |--- feature_0 >  143.50\n",
            "|   |   |   |   |   |   |   |   |   |   |--- class: California\n",
            "|   |   |   |   |   |   |   |--- feature_0 >  144.50\n",
            "|   |   |   |   |   |   |   |   |--- feature_0 <= 150.50\n",
            "|   |   |   |   |   |   |   |   |   |--- feature_0 <= 145.50\n",
            "|   |   |   |   |   |   |   |   |   |   |--- class: Alaska\n",
            "|   |   |   |   |   |   |   |   |   |--- feature_0 >  145.50\n",
            "|   |   |   |   |   |   |   |   |   |   |--- feature_0 <= 146.50\n",
            "|   |   |   |   |   |   |   |   |   |   |   |--- class: California\n",
            "|   |   |   |   |   |   |   |   |   |   |--- feature_0 >  146.50\n",
            "|   |   |   |   |   |   |   |   |   |   |   |--- truncated branch of depth 3\n",
            "|   |   |   |   |   |   |   |   |--- feature_0 >  150.50\n",
            "|   |   |   |   |   |   |   |   |   |--- class: California\n",
            "|   |   |   |   |   |   |--- feature_0 >  151.50\n",
            "|   |   |   |   |   |   |   |--- feature_0 <= 153.50\n",
            "|   |   |   |   |   |   |   |   |--- feature_0 <= 152.50\n",
            "|   |   |   |   |   |   |   |   |   |--- class: California\n",
            "|   |   |   |   |   |   |   |   |--- feature_0 >  152.50\n",
            "|   |   |   |   |   |   |   |   |   |--- class: Missouri\n",
            "|   |   |   |   |   |   |   |--- feature_0 >  153.50\n",
            "|   |   |   |   |   |   |   |   |--- feature_0 <= 156.50\n",
            "|   |   |   |   |   |   |   |   |   |--- feature_0 <= 154.50\n",
            "|   |   |   |   |   |   |   |   |   |   |--- class: California\n",
            "|   |   |   |   |   |   |   |   |   |--- feature_0 >  154.50\n",
            "|   |   |   |   |   |   |   |   |   |   |--- feature_0 <= 155.50\n",
            "|   |   |   |   |   |   |   |   |   |   |   |--- class: Country Of Mexico\n",
            "|   |   |   |   |   |   |   |   |   |   |--- feature_0 >  155.50\n",
            "|   |   |   |   |   |   |   |   |   |   |   |--- class: California\n",
            "|   |   |   |   |   |   |   |   |--- feature_0 >  156.50\n",
            "|   |   |   |   |   |   |   |   |   |--- feature_0 <= 159.50\n",
            "|   |   |   |   |   |   |   |   |   |   |--- feature_0 <= 157.50\n",
            "|   |   |   |   |   |   |   |   |   |   |   |--- class: California\n",
            "|   |   |   |   |   |   |   |   |   |   |--- feature_0 >  157.50\n",
            "|   |   |   |   |   |   |   |   |   |   |   |--- truncated branch of depth 2\n",
            "|   |   |   |   |   |   |   |   |   |--- feature_0 >  159.50\n",
            "|   |   |   |   |   |   |   |   |   |   |--- class: California\n",
            "|   |   |   |--- feature_0 >  160.50\n",
            "|   |   |   |   |--- feature_0 <= 200.50\n",
            "|   |   |   |   |   |--- feature_0 <= 184.50\n",
            "|   |   |   |   |   |   |--- feature_0 <= 176.50\n",
            "|   |   |   |   |   |   |   |--- feature_0 <= 174.50\n",
            "|   |   |   |   |   |   |   |   |--- feature_0 <= 167.50\n",
            "|   |   |   |   |   |   |   |   |   |--- feature_0 <= 166.50\n",
            "|   |   |   |   |   |   |   |   |   |   |--- feature_0 <= 161.50\n",
            "|   |   |   |   |   |   |   |   |   |   |   |--- class: California\n",
            "|   |   |   |   |   |   |   |   |   |   |--- feature_0 >  161.50\n",
            "|   |   |   |   |   |   |   |   |   |   |   |--- truncated branch of depth 4\n",
            "|   |   |   |   |   |   |   |   |   |--- feature_0 >  166.50\n",
            "|   |   |   |   |   |   |   |   |   |   |--- class: Idaho\n",
            "|   |   |   |   |   |   |   |   |--- feature_0 >  167.50\n",
            "|   |   |   |   |   |   |   |   |   |--- feature_0 <= 168.50\n",
            "|   |   |   |   |   |   |   |   |   |   |--- class: California\n",
            "|   |   |   |   |   |   |   |   |   |--- feature_0 >  168.50\n",
            "|   |   |   |   |   |   |   |   |   |   |--- feature_0 <= 173.50\n",
            "|   |   |   |   |   |   |   |   |   |   |   |--- truncated branch of depth 5\n",
            "|   |   |   |   |   |   |   |   |   |   |--- feature_0 >  173.50\n",
            "|   |   |   |   |   |   |   |   |   |   |   |--- class: California\n",
            "|   |   |   |   |   |   |   |--- feature_0 >  174.50\n",
            "|   |   |   |   |   |   |   |   |--- feature_0 <= 175.50\n",
            "|   |   |   |   |   |   |   |   |   |--- class: Missouri\n",
            "|   |   |   |   |   |   |   |   |--- feature_0 >  175.50\n",
            "|   |   |   |   |   |   |   |   |   |--- class: Alaska\n",
            "|   |   |   |   |   |   |--- feature_0 >  176.50\n",
            "|   |   |   |   |   |   |   |--- feature_0 <= 183.50\n",
            "|   |   |   |   |   |   |   |   |--- feature_0 <= 177.50\n",
            "|   |   |   |   |   |   |   |   |   |--- class: California\n",
            "|   |   |   |   |   |   |   |   |--- feature_0 >  177.50\n",
            "|   |   |   |   |   |   |   |   |   |--- feature_0 <= 178.50\n",
            "|   |   |   |   |   |   |   |   |   |   |--- class: Hawaii\n",
            "|   |   |   |   |   |   |   |   |   |--- feature_0 >  178.50\n",
            "|   |   |   |   |   |   |   |   |   |   |--- feature_0 <= 182.50\n",
            "|   |   |   |   |   |   |   |   |   |   |   |--- truncated branch of depth 4\n",
            "|   |   |   |   |   |   |   |   |   |   |--- feature_0 >  182.50\n",
            "|   |   |   |   |   |   |   |   |   |   |   |--- class: California\n",
            "|   |   |   |   |   |   |   |--- feature_0 >  183.50\n",
            "|   |   |   |   |   |   |   |   |--- class: California\n",
            "|   |   |   |   |   |--- feature_0 >  184.50\n",
            "|   |   |   |   |   |   |--- feature_0 <= 199.50\n",
            "|   |   |   |   |   |   |   |--- feature_0 <= 195.50\n",
            "|   |   |   |   |   |   |   |   |--- feature_0 <= 186.50\n",
            "|   |   |   |   |   |   |   |   |   |--- feature_0 <= 185.50\n",
            "|   |   |   |   |   |   |   |   |   |   |--- class: California\n",
            "|   |   |   |   |   |   |   |   |   |--- feature_0 >  185.50\n",
            "|   |   |   |   |   |   |   |   |   |   |--- class: California\n",
            "|   |   |   |   |   |   |   |   |--- feature_0 >  186.50\n",
            "|   |   |   |   |   |   |   |   |   |--- feature_0 <= 188.50\n",
            "|   |   |   |   |   |   |   |   |   |   |--- feature_0 <= 187.50\n",
            "|   |   |   |   |   |   |   |   |   |   |   |--- class: Arizona\n",
            "|   |   |   |   |   |   |   |   |   |   |--- feature_0 >  187.50\n",
            "|   |   |   |   |   |   |   |   |   |   |   |--- class: Missouri\n",
            "|   |   |   |   |   |   |   |   |   |--- feature_0 >  188.50\n",
            "|   |   |   |   |   |   |   |   |   |   |--- feature_0 <= 189.50\n",
            "|   |   |   |   |   |   |   |   |   |   |   |--- class: Nevada\n",
            "|   |   |   |   |   |   |   |   |   |   |--- feature_0 >  189.50\n",
            "|   |   |   |   |   |   |   |   |   |   |   |--- truncated branch of depth 6\n",
            "|   |   |   |   |   |   |   |--- feature_0 >  195.50\n",
            "|   |   |   |   |   |   |   |   |--- feature_0 <= 196.50\n",
            "|   |   |   |   |   |   |   |   |   |--- class: California\n",
            "|   |   |   |   |   |   |   |   |--- feature_0 >  196.50\n",
            "|   |   |   |   |   |   |   |   |   |--- feature_0 <= 198.00\n",
            "|   |   |   |   |   |   |   |   |   |   |--- class: Arizona\n",
            "|   |   |   |   |   |   |   |   |   |--- feature_0 >  198.00\n",
            "|   |   |   |   |   |   |   |   |   |   |--- class: California\n",
            "|   |   |   |   |   |   |--- feature_0 >  199.50\n",
            "|   |   |   |   |   |   |   |--- class: Missouri\n",
            "|   |   |   |   |--- feature_0 >  200.50\n",
            "|   |   |   |   |   |--- feature_0 <= 226.50\n",
            "|   |   |   |   |   |   |--- feature_0 <= 211.50\n",
            "|   |   |   |   |   |   |   |--- feature_0 <= 202.50\n",
            "|   |   |   |   |   |   |   |   |--- class: Arizona\n",
            "|   |   |   |   |   |   |   |--- feature_0 >  202.50\n",
            "|   |   |   |   |   |   |   |   |--- feature_0 <= 209.50\n",
            "|   |   |   |   |   |   |   |   |   |--- feature_0 <= 207.50\n",
            "|   |   |   |   |   |   |   |   |   |   |--- feature_0 <= 206.50\n",
            "|   |   |   |   |   |   |   |   |   |   |   |--- truncated branch of depth 4\n",
            "|   |   |   |   |   |   |   |   |   |   |--- feature_0 >  206.50\n",
            "|   |   |   |   |   |   |   |   |   |   |   |--- class: California\n",
            "|   |   |   |   |   |   |   |   |   |--- feature_0 >  207.50\n",
            "|   |   |   |   |   |   |   |   |   |   |--- feature_0 <= 208.50\n",
            "|   |   |   |   |   |   |   |   |   |   |   |--- class: Arizona\n",
            "|   |   |   |   |   |   |   |   |   |   |--- feature_0 >  208.50\n",
            "|   |   |   |   |   |   |   |   |   |   |   |--- class: Arizona\n",
            "|   |   |   |   |   |   |   |   |--- feature_0 >  209.50\n",
            "|   |   |   |   |   |   |   |   |   |--- feature_0 <= 210.50\n",
            "|   |   |   |   |   |   |   |   |   |   |--- class: California\n",
            "|   |   |   |   |   |   |   |   |   |--- feature_0 >  210.50\n",
            "|   |   |   |   |   |   |   |   |   |   |--- class: California\n",
            "|   |   |   |   |   |   |--- feature_0 >  211.50\n",
            "|   |   |   |   |   |   |   |--- feature_0 <= 218.50\n",
            "|   |   |   |   |   |   |   |   |--- feature_0 <= 217.50\n",
            "|   |   |   |   |   |   |   |   |   |--- feature_0 <= 216.50\n",
            "|   |   |   |   |   |   |   |   |   |   |--- feature_0 <= 212.50\n",
            "|   |   |   |   |   |   |   |   |   |   |   |--- class: Arizona\n",
            "|   |   |   |   |   |   |   |   |   |   |--- feature_0 >  212.50\n",
            "|   |   |   |   |   |   |   |   |   |   |   |--- truncated branch of depth 4\n",
            "|   |   |   |   |   |   |   |   |   |--- feature_0 >  216.50\n",
            "|   |   |   |   |   |   |   |   |   |   |--- class: Arizona\n",
            "|   |   |   |   |   |   |   |   |--- feature_0 >  217.50\n",
            "|   |   |   |   |   |   |   |   |   |--- class: Arizona\n",
            "|   |   |   |   |   |   |   |--- feature_0 >  218.50\n",
            "|   |   |   |   |   |   |   |   |--- class: Arizona\n",
            "|   |   |   |   |   |--- feature_0 >  226.50\n",
            "|   |   |   |   |   |   |--- feature_0 <= 457.00\n",
            "|   |   |   |   |   |   |   |--- feature_0 <= 319.50\n",
            "|   |   |   |   |   |   |   |   |--- feature_0 <= 318.50\n",
            "|   |   |   |   |   |   |   |   |   |--- feature_0 <= 289.50\n",
            "|   |   |   |   |   |   |   |   |   |   |--- feature_0 <= 261.50\n",
            "|   |   |   |   |   |   |   |   |   |   |   |--- truncated branch of depth 6\n",
            "|   |   |   |   |   |   |   |   |   |   |--- feature_0 >  261.50\n",
            "|   |   |   |   |   |   |   |   |   |   |   |--- truncated branch of depth 4\n",
            "|   |   |   |   |   |   |   |   |   |--- feature_0 >  289.50\n",
            "|   |   |   |   |   |   |   |   |   |   |--- feature_0 <= 303.00\n",
            "|   |   |   |   |   |   |   |   |   |   |   |--- class: Nevada\n",
            "|   |   |   |   |   |   |   |   |   |   |--- feature_0 >  303.00\n",
            "|   |   |   |   |   |   |   |   |   |   |   |--- truncated branch of depth 2\n",
            "|   |   |   |   |   |   |   |   |--- feature_0 >  318.50\n",
            "|   |   |   |   |   |   |   |   |   |--- class: New Mexico\n",
            "|   |   |   |   |   |   |   |--- feature_0 >  319.50\n",
            "|   |   |   |   |   |   |   |   |--- feature_0 <= 377.50\n",
            "|   |   |   |   |   |   |   |   |   |--- class: California\n",
            "|   |   |   |   |   |   |   |   |--- feature_0 >  377.50\n",
            "|   |   |   |   |   |   |   |   |   |--- feature_0 <= 389.50\n",
            "|   |   |   |   |   |   |   |   |   |   |--- class: Puerto Rico\n",
            "|   |   |   |   |   |   |   |   |   |--- feature_0 >  389.50\n",
            "|   |   |   |   |   |   |   |   |   |   |--- class: California\n",
            "|   |   |   |   |   |   |--- feature_0 >  457.00\n",
            "|   |   |   |   |   |   |   |--- feature_0 <= 665.50\n",
            "|   |   |   |   |   |   |   |   |--- feature_0 <= 521.00\n",
            "|   |   |   |   |   |   |   |   |   |--- class: New Mexico\n",
            "|   |   |   |   |   |   |   |   |--- feature_0 >  521.00\n",
            "|   |   |   |   |   |   |   |   |   |--- feature_0 <= 611.00\n",
            "|   |   |   |   |   |   |   |   |   |   |--- class: Colorado\n",
            "|   |   |   |   |   |   |   |   |   |--- feature_0 >  611.00\n",
            "|   |   |   |   |   |   |   |   |   |   |--- feature_0 <= 655.00\n",
            "|   |   |   |   |   |   |   |   |   |   |   |--- class: California\n",
            "|   |   |   |   |   |   |   |   |   |   |--- feature_0 >  655.00\n",
            "|   |   |   |   |   |   |   |   |   |   |   |--- truncated branch of depth 2\n",
            "|   |   |   |   |   |   |   |--- feature_0 >  665.50\n",
            "|   |   |   |   |   |   |   |   |--- class: California\n",
            "\n"
          ]
        }
      ]
    },
    {
      "cell_type": "markdown",
      "source": [
        "## Check Accuracy\n",
        "\n",
        "What is the accuracy of the money_tree? Use these steps to calculate accuracy.\n",
        "\n",
        "Is this over fitted?"
      ],
      "metadata": {
        "id": "sSNfQKZA3jg2"
      }
    },
    {
      "cell_type": "code",
      "metadata": {
        "id": "eVOSIP8SeYg3",
        "colab": {
          "base_uri": "https://localhost:8080/"
        },
        "outputId": "f08373e2-bb49-4854-9e69-9cc58b9ce2ca"
      },
      "source": [
        "pred = money_tree.predict(x)\n",
        "\n",
        "#print(pred)\n",
        "\n",
        "print(\"Accuracy:\",metrics.accuracy_score(y, pred))"
      ],
      "execution_count": 21,
      "outputs": [
        {
          "output_type": "stream",
          "name": "stdout",
          "text": [
            "Accuracy: 0.07323232323232323\n"
          ]
        }
      ]
    },
    {
      "cell_type": "markdown",
      "source": [
        "## Prune the tree\n",
        "\n",
        "Limit the number of levels to 2"
      ],
      "metadata": {
        "id": "bLm9U6FV5XB2"
      }
    },
    {
      "cell_type": "code",
      "source": [
        "money_tree2 = DecisionTreeClassifier(criterion=\"entropy\", max_depth=2)\n",
        "\n",
        "# Create Decision Tree Classifer\n",
        "money_tree2 = money_tree2.fit(x,y)\n"
      ],
      "metadata": {
        "id": "eVaCrCeU5kmt"
      },
      "execution_count": 23,
      "outputs": []
    },
    {
      "cell_type": "markdown",
      "source": [
        "## Preview the new tree"
      ],
      "metadata": {
        "id": "kmKO3QVT8apE"
      }
    },
    {
      "cell_type": "code",
      "source": [
        "money_tree2_text = tree.export_text(money_tree2)\n",
        "print(money_tree2_text)"
      ],
      "metadata": {
        "id": "83PSEPJd8e3i",
        "colab": {
          "base_uri": "https://localhost:8080/"
        },
        "outputId": "2564c48a-3e8f-43ff-a4c4-6e8fe88f8a0a"
      },
      "execution_count": 24,
      "outputs": [
        {
          "output_type": "stream",
          "name": "stdout",
          "text": [
            "|--- feature_0 <= 23.50\n",
            "|   |--- feature_0 <= 4.50\n",
            "|   |   |--- class: Texas\n",
            "|   |--- feature_0 >  4.50\n",
            "|   |   |--- class: Washington\n",
            "|--- feature_0 >  23.50\n",
            "|   |--- feature_0 <= 41.50\n",
            "|   |   |--- class: Pennsylvania\n",
            "|   |--- feature_0 >  41.50\n",
            "|   |   |--- class: California\n",
            "\n"
          ]
        }
      ]
    },
    {
      "cell_type": "markdown",
      "source": [
        "## Re-Check Accuracy\n",
        "\n",
        "Is this accuracy better than making a random guess?  (check the distribution above)"
      ],
      "metadata": {
        "id": "KqK2LiaU7K1e"
      }
    },
    {
      "cell_type": "code",
      "source": [
        "pred = money_tree2.predict(x)\n",
        "\n",
        "print(\"Accuracy:\",metrics.accuracy_score(y, pred))"
      ],
      "metadata": {
        "id": "C2WGouWs6L5d",
        "colab": {
          "base_uri": "https://localhost:8080/"
        },
        "outputId": "30c70fb4-622b-47df-955b-9e9fb67bcca3"
      },
      "execution_count": 25,
      "outputs": [
        {
          "output_type": "stream",
          "name": "stdout",
          "text": [
            "Accuracy: 0.06794808337458065\n"
          ]
        }
      ]
    },
    {
      "cell_type": "markdown",
      "source": [
        "## Visualize the model"
      ],
      "metadata": {
        "id": "tYqqwO1l3e5l"
      }
    },
    {
      "cell_type": "code",
      "source": [
        "from six import StringIO\n",
        "from IPython.display import Image  \n",
        "import pydotplus\n",
        "\n",
        "dot_data = StringIO()\n",
        "export_graphviz(money_tree2, out_file=dot_data, \n",
        "                   feature_names=x.columns,class_names=['State Name','AQI'], \n",
        "                   filled=True,rounded=True, precision =2)\n",
        "\n",
        "graph=pydotplus.graph_from_dot_data(dot_data.getvalue())\n",
        "Image(graph.create_png())"
      ],
      "metadata": {
        "id": "yj--WKic3c_x",
        "colab": {
          "base_uri": "https://localhost:8080/",
          "height": 389
        },
        "outputId": "ea01e3d1-2a10-4c94-d4b0-fad098a72931"
      },
      "execution_count": 29,
      "outputs": [
        {
          "output_type": "error",
          "ename": "IndexError",
          "evalue": "ignored",
          "traceback": [
            "\u001b[0;31m---------------------------------------------------------------------------\u001b[0m",
            "\u001b[0;31mIndexError\u001b[0m                                Traceback (most recent call last)",
            "\u001b[0;32m<ipython-input-29-534b57c149e7>\u001b[0m in \u001b[0;36m<cell line: 6>\u001b[0;34m()\u001b[0m\n\u001b[1;32m      4\u001b[0m \u001b[0;34m\u001b[0m\u001b[0m\n\u001b[1;32m      5\u001b[0m \u001b[0mdot_data\u001b[0m \u001b[0;34m=\u001b[0m \u001b[0mStringIO\u001b[0m\u001b[0;34m(\u001b[0m\u001b[0;34m)\u001b[0m\u001b[0;34m\u001b[0m\u001b[0;34m\u001b[0m\u001b[0m\n\u001b[0;32m----> 6\u001b[0;31m export_graphviz(money_tree2, out_file=dot_data, \n\u001b[0m\u001b[1;32m      7\u001b[0m                    \u001b[0mfeature_names\u001b[0m\u001b[0;34m=\u001b[0m\u001b[0mx\u001b[0m\u001b[0;34m.\u001b[0m\u001b[0mcolumns\u001b[0m\u001b[0;34m,\u001b[0m\u001b[0mclass_names\u001b[0m\u001b[0;34m=\u001b[0m\u001b[0;34m[\u001b[0m\u001b[0;34m'State Name'\u001b[0m\u001b[0;34m,\u001b[0m\u001b[0;34m'AQI'\u001b[0m\u001b[0;34m]\u001b[0m\u001b[0;34m,\u001b[0m\u001b[0;34m\u001b[0m\u001b[0;34m\u001b[0m\u001b[0m\n\u001b[1;32m      8\u001b[0m                    filled=True,rounded=True, precision =2)\n",
            "\u001b[0;32m/usr/local/lib/python3.9/dist-packages/sklearn/tree/_export.py\u001b[0m in \u001b[0;36mexport_graphviz\u001b[0;34m(decision_tree, out_file, max_depth, feature_names, class_names, label, filled, leaves_parallel, impurity, node_ids, proportion, rotate, rounded, special_characters, precision, fontname)\u001b[0m\n\u001b[1;32m    886\u001b[0m             \u001b[0mfontname\u001b[0m\u001b[0;34m=\u001b[0m\u001b[0mfontname\u001b[0m\u001b[0;34m,\u001b[0m\u001b[0;34m\u001b[0m\u001b[0;34m\u001b[0m\u001b[0m\n\u001b[1;32m    887\u001b[0m         )\n\u001b[0;32m--> 888\u001b[0;31m         \u001b[0mexporter\u001b[0m\u001b[0;34m.\u001b[0m\u001b[0mexport\u001b[0m\u001b[0;34m(\u001b[0m\u001b[0mdecision_tree\u001b[0m\u001b[0;34m)\u001b[0m\u001b[0;34m\u001b[0m\u001b[0;34m\u001b[0m\u001b[0m\n\u001b[0m\u001b[1;32m    889\u001b[0m \u001b[0;34m\u001b[0m\u001b[0m\n\u001b[1;32m    890\u001b[0m         \u001b[0;32mif\u001b[0m \u001b[0mreturn_string\u001b[0m\u001b[0;34m:\u001b[0m\u001b[0;34m\u001b[0m\u001b[0;34m\u001b[0m\u001b[0m\n",
            "\u001b[0;32m/usr/local/lib/python3.9/dist-packages/sklearn/tree/_export.py\u001b[0m in \u001b[0;36mexport\u001b[0;34m(self, decision_tree)\u001b[0m\n\u001b[1;32m    459\u001b[0m             \u001b[0mself\u001b[0m\u001b[0;34m.\u001b[0m\u001b[0mrecurse\u001b[0m\u001b[0;34m(\u001b[0m\u001b[0mdecision_tree\u001b[0m\u001b[0;34m,\u001b[0m \u001b[0;36m0\u001b[0m\u001b[0;34m,\u001b[0m \u001b[0mcriterion\u001b[0m\u001b[0;34m=\u001b[0m\u001b[0;34m\"impurity\"\u001b[0m\u001b[0;34m)\u001b[0m\u001b[0;34m\u001b[0m\u001b[0;34m\u001b[0m\u001b[0m\n\u001b[1;32m    460\u001b[0m         \u001b[0;32melse\u001b[0m\u001b[0;34m:\u001b[0m\u001b[0;34m\u001b[0m\u001b[0;34m\u001b[0m\u001b[0m\n\u001b[0;32m--> 461\u001b[0;31m             \u001b[0mself\u001b[0m\u001b[0;34m.\u001b[0m\u001b[0mrecurse\u001b[0m\u001b[0;34m(\u001b[0m\u001b[0mdecision_tree\u001b[0m\u001b[0;34m.\u001b[0m\u001b[0mtree_\u001b[0m\u001b[0;34m,\u001b[0m \u001b[0;36m0\u001b[0m\u001b[0;34m,\u001b[0m \u001b[0mcriterion\u001b[0m\u001b[0;34m=\u001b[0m\u001b[0mdecision_tree\u001b[0m\u001b[0;34m.\u001b[0m\u001b[0mcriterion\u001b[0m\u001b[0;34m)\u001b[0m\u001b[0;34m\u001b[0m\u001b[0;34m\u001b[0m\u001b[0m\n\u001b[0m\u001b[1;32m    462\u001b[0m \u001b[0;34m\u001b[0m\u001b[0m\n\u001b[1;32m    463\u001b[0m         \u001b[0mself\u001b[0m\u001b[0;34m.\u001b[0m\u001b[0mtail\u001b[0m\u001b[0;34m(\u001b[0m\u001b[0;34m)\u001b[0m\u001b[0;34m\u001b[0m\u001b[0;34m\u001b[0m\u001b[0m\n",
            "\u001b[0;32m/usr/local/lib/python3.9/dist-packages/sklearn/tree/_export.py\u001b[0m in \u001b[0;36mrecurse\u001b[0;34m(self, tree, node_id, criterion, parent, depth)\u001b[0m\n\u001b[1;32m    518\u001b[0m \u001b[0;34m\u001b[0m\u001b[0m\n\u001b[1;32m    519\u001b[0m             self.out_file.write(\n\u001b[0;32m--> 520\u001b[0;31m                 \u001b[0;34m\"%d [label=%s\"\u001b[0m \u001b[0;34m%\u001b[0m \u001b[0;34m(\u001b[0m\u001b[0mnode_id\u001b[0m\u001b[0;34m,\u001b[0m \u001b[0mself\u001b[0m\u001b[0;34m.\u001b[0m\u001b[0mnode_to_str\u001b[0m\u001b[0;34m(\u001b[0m\u001b[0mtree\u001b[0m\u001b[0;34m,\u001b[0m \u001b[0mnode_id\u001b[0m\u001b[0;34m,\u001b[0m \u001b[0mcriterion\u001b[0m\u001b[0;34m)\u001b[0m\u001b[0;34m)\u001b[0m\u001b[0;34m\u001b[0m\u001b[0;34m\u001b[0m\u001b[0m\n\u001b[0m\u001b[1;32m    521\u001b[0m             )\n\u001b[1;32m    522\u001b[0m \u001b[0;34m\u001b[0m\u001b[0m\n",
            "\u001b[0;32m/usr/local/lib/python3.9/dist-packages/sklearn/tree/_export.py\u001b[0m in \u001b[0;36mnode_to_str\u001b[0;34m(self, tree, node_id, criterion)\u001b[0m\n\u001b[1;32m    364\u001b[0m                 \u001b[0mnode_string\u001b[0m \u001b[0;34m+=\u001b[0m \u001b[0;34m\"class = \"\u001b[0m\u001b[0;34m\u001b[0m\u001b[0;34m\u001b[0m\u001b[0m\n\u001b[1;32m    365\u001b[0m             \u001b[0;32mif\u001b[0m \u001b[0mself\u001b[0m\u001b[0;34m.\u001b[0m\u001b[0mclass_names\u001b[0m \u001b[0;32mis\u001b[0m \u001b[0;32mnot\u001b[0m \u001b[0;32mTrue\u001b[0m\u001b[0;34m:\u001b[0m\u001b[0;34m\u001b[0m\u001b[0;34m\u001b[0m\u001b[0m\n\u001b[0;32m--> 366\u001b[0;31m                 \u001b[0mclass_name\u001b[0m \u001b[0;34m=\u001b[0m \u001b[0mself\u001b[0m\u001b[0;34m.\u001b[0m\u001b[0mclass_names\u001b[0m\u001b[0;34m[\u001b[0m\u001b[0mnp\u001b[0m\u001b[0;34m.\u001b[0m\u001b[0margmax\u001b[0m\u001b[0;34m(\u001b[0m\u001b[0mvalue\u001b[0m\u001b[0;34m)\u001b[0m\u001b[0;34m]\u001b[0m\u001b[0;34m\u001b[0m\u001b[0;34m\u001b[0m\u001b[0m\n\u001b[0m\u001b[1;32m    367\u001b[0m             \u001b[0;32melse\u001b[0m\u001b[0;34m:\u001b[0m\u001b[0;34m\u001b[0m\u001b[0;34m\u001b[0m\u001b[0m\n\u001b[1;32m    368\u001b[0m                 class_name = \"y%s%s%s\" % (\n",
            "\u001b[0;31mIndexError\u001b[0m: list index out of range"
          ]
        }
      ]
    },
    {
      "cell_type": "markdown",
      "source": [
        "## Fit a full tree model\n",
        "\n",
        "Use all of the independent attributes.  We'll call this the \"full tree.\" \n",
        "\n",
        "What is the accuracy of the full tree? "
      ],
      "metadata": {
        "id": "oKoXf3kkJVmm"
      }
    },
    {
      "cell_type": "code",
      "metadata": {
        "id": "SFOTNW70MbI9"
      },
      "source": [
        "# split the datafram into independent (x) and dependent (predicted) attributes (y)\n",
        "x = df_clean[['income','house','college','overage','leftover','handset_price','over_15mins_calls_per_month','average_call_duration','reported_satisfaction','reported_usage_level','considering_change_of_plan']]\n",
        "y = df_clean['leave']\n",
        "\n",
        "full_tree = DecisionTreeClassifier(criterion=\"entropy\", max_depth=1)\n",
        "\n",
        "# Create Decision Tree Classifer\n",
        "full_tree = full_tree.fit(x,y)\n"
      ],
      "execution_count": null,
      "outputs": []
    },
    {
      "cell_type": "markdown",
      "source": [
        "##Visualize the full tree"
      ],
      "metadata": {
        "id": "qkDk8JG8n_W9"
      }
    },
    {
      "cell_type": "code",
      "source": [
        "from six import StringIO\n",
        "from IPython.display import Image  \n",
        "import pydotplus\n",
        "\n",
        "dot_data = StringIO()\n",
        "export_graphviz(full_tree, out_file=dot_data, \n",
        "                   feature_names=x.columns,class_names=['leave','stay'], \n",
        "                   filled=True,rounded=True, precision =2)\n",
        "\n",
        "graph=pydotplus.graph_from_dot_data(dot_data.getvalue())\n",
        "Image(graph.create_png())"
      ],
      "metadata": {
        "id": "nFvB1n-_oBV6"
      },
      "execution_count": null,
      "outputs": []
    },
    {
      "cell_type": "markdown",
      "source": [
        "## Check Accuracy"
      ],
      "metadata": {
        "id": "m-ZyMMzIMrba"
      }
    },
    {
      "cell_type": "code",
      "source": [
        "pred = full_tree.predict(x)\n",
        "\n",
        "#print(pred)\n",
        "\n",
        "print(\"Accuracy:\",metrics.accuracy_score(y, pred))"
      ],
      "metadata": {
        "id": "Tzn8iS8hMtvQ"
      },
      "execution_count": null,
      "outputs": []
    },
    {
      "cell_type": "markdown",
      "source": [
        "##Test and Train\n",
        "Now we will split the dataset into 80% training data and 20% test data"
      ],
      "metadata": {
        "id": "phFKD8KKmgkF"
      }
    },
    {
      "cell_type": "code",
      "source": [
        "x_train, x_test, y_train, y_test = train_test_split(x, y, test_size=0.2)"
      ],
      "metadata": {
        "id": "77_0IJBRmuFT"
      },
      "execution_count": null,
      "outputs": []
    },
    {
      "cell_type": "markdown",
      "source": [
        "##Create a new tree using only training data"
      ],
      "metadata": {
        "id": "ZcjFH-MBnaml"
      }
    },
    {
      "cell_type": "code",
      "source": [
        "train_tree = DecisionTreeClassifier(criterion=\"entropy\", max_depth=5)\n",
        "\n",
        "# Create Decision Tree Classifer\n",
        "train_tree = train_tree.fit(x_train,y_train)"
      ],
      "metadata": {
        "id": "ZS66hDodnmIX"
      },
      "execution_count": null,
      "outputs": []
    },
    {
      "cell_type": "markdown",
      "source": [
        "##Apply the new tree to our test data"
      ],
      "metadata": {
        "id": "meDBr2fatOqF"
      }
    },
    {
      "cell_type": "code",
      "source": [
        "pred = train_tree.predict(x_test)\n",
        "print(\"Accuracy:\",metrics.accuracy_score(y_test, pred))"
      ],
      "metadata": {
        "id": "UneJift1nxVb"
      },
      "execution_count": null,
      "outputs": []
    },
    {
      "cell_type": "markdown",
      "source": [
        "## Visualize the trained tree"
      ],
      "metadata": {
        "id": "uYl-WnlrNBbr"
      }
    },
    {
      "cell_type": "code",
      "source": [
        "from six import StringIO\n",
        "from IPython.display import Image  \n",
        "import pydotplus\n",
        "\n",
        "dot_data = StringIO()\n",
        "export_graphviz(train_tree, out_file=dot_data, \n",
        "                   feature_names=x.columns,class_names=['leave','stay'], \n",
        "                   filled=True,rounded=True, precision =2)\n",
        "\n",
        "graph=pydotplus.graph_from_dot_data(dot_data.getvalue())\n",
        "Image(graph.create_png())"
      ],
      "metadata": {
        "id": "JsdhyStgNEYy"
      },
      "execution_count": null,
      "outputs": []
    },
    {
      "cell_type": "markdown",
      "source": [
        "## Did the model improve?\n",
        "👎  👍"
      ],
      "metadata": {
        "id": "G0xA_kdGQ1Ln"
      }
    }
  ]
}